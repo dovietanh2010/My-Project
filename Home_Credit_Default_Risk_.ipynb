{
  "cells": [
    {
      "cell_type": "code",
      "execution_count": null,
      "metadata": {
        "colab": {
          "base_uri": "https://localhost:8080/"
        },
        "id": "5CL2j27GD5zH",
        "outputId": "af0030dc-09bf-4c21-a938-87a62f3d168a"
      },
      "outputs": [
        {
          "output_type": "stream",
          "name": "stdout",
          "text": [
            "Collecting pyspark\n",
            "  Downloading pyspark-3.5.2.tar.gz (317.3 MB)\n",
            "\u001b[2K     \u001b[90m━━━━━━━━━━━━━━━━━━━━━━━━━━━━━━━━━━━━━━━━\u001b[0m \u001b[32m317.3/317.3 MB\u001b[0m \u001b[31m4.3 MB/s\u001b[0m eta \u001b[36m0:00:00\u001b[0m\n",
            "\u001b[?25h  Preparing metadata (setup.py) ... \u001b[?25l\u001b[?25hdone\n",
            "Requirement already satisfied: py4j==0.10.9.7 in /usr/local/lib/python3.10/dist-packages (from pyspark) (0.10.9.7)\n",
            "Building wheels for collected packages: pyspark\n",
            "  Building wheel for pyspark (setup.py) ... \u001b[?25l\u001b[?25hdone\n",
            "  Created wheel for pyspark: filename=pyspark-3.5.2-py2.py3-none-any.whl size=317812365 sha256=693b4906d0ce603f0cd74a915dcd85fc266364233b6455cdafba959b901df0cf\n",
            "  Stored in directory: /root/.cache/pip/wheels/34/34/bd/03944534c44b677cd5859f248090daa9fb27b3c8f8e5f49574\n",
            "Successfully built pyspark\n",
            "Installing collected packages: pyspark\n",
            "Successfully installed pyspark-3.5.2\n"
          ]
        }
      ],
      "source": [
        "!pip install pyspark"
      ]
    },
    {
      "cell_type": "markdown",
      "source": [
        "Các thư viện cần thiết cho bài toán"
      ],
      "metadata": {
        "id": "tuCUwCRlw2fi"
      }
    },
    {
      "cell_type": "code",
      "execution_count": null,
      "metadata": {
        "id": "jSrFB4kxFboj"
      },
      "outputs": [],
      "source": [
        "import pyspark\n",
        "import matplotlib.pyplot as plt\n",
        "import seaborn as sns\n",
        "from pyspark.sql.functions import col, count, when, mean\n",
        "from pyspark.ml.feature import VectorAssembler\n",
        "from pyspark.ml.classification import LogisticRegression\n",
        "from pyspark.ml.evaluation import BinaryClassificationEvaluator, MulticlassClassificationEvaluator\n",
        "from pyspark.ml import Pipeline\n",
        "from pyspark.sql.types import DoubleType, IntegerType\n",
        "import pandas as pd\n"
      ]
    },
    {
      "cell_type": "markdown",
      "source": [
        "Khởi tạo SparkSession"
      ],
      "metadata": {
        "id": "OwIAwLZhxJrt"
      }
    },
    {
      "cell_type": "code",
      "execution_count": null,
      "metadata": {
        "id": "7mfq1xKZFd8f"
      },
      "outputs": [],
      "source": [
        "from pyspark.sql import SparkSession\n",
        "spark = SparkSession.builder.getOrCreate()"
      ]
    },
    {
      "cell_type": "markdown",
      "metadata": {
        "id": "z-h8jU3lI5xM"
      },
      "source": [
        "# Đọc dữ liệu"
      ]
    },
    {
      "cell_type": "code",
      "execution_count": null,
      "metadata": {
        "id": "IK_Qm6oJFtV-"
      },
      "outputs": [],
      "source": [
        "application_train = spark.read.csv('application_train.csv', header=True, inferSchema=True)\n",
        "bureau = spark.read.csv('bureau.csv', header=True, inferSchema=True)"
      ]
    },
    {
      "cell_type": "markdown",
      "source": [
        "Dữ liệu bảng application"
      ],
      "metadata": {
        "id": "JuUm3LJuxYQr"
      }
    },
    {
      "cell_type": "code",
      "execution_count": null,
      "metadata": {
        "colab": {
          "base_uri": "https://localhost:8080/"
        },
        "id": "8q8aFUEhsq_s",
        "outputId": "a694a210-1a62-4ea3-f356-2038bdeaf47b"
      },
      "outputs": [
        {
          "output_type": "stream",
          "name": "stdout",
          "text": [
            "+----------+------+------------------+-----------+------------+---------------+------------+----------------+----------+-----------+---------------+---------------+----------------+--------------------+--------------------+-----------------+--------------------------+----------+-------------+-----------------+---------------+-----------+----------+--------------+---------------+----------------+----------+----------+---------------+---------------+--------------------+---------------------------+--------------------------+-----------------------+--------------------------+--------------------------+---------------------------+----------------------+----------------------+-----------------------+--------------------+-------------------+------------------+-------------------+--------------+----------------+---------------------------+------------------+--------------+-------------+-------------+-------------+-------------+------------+--------------------+--------------+-----------------------+-----------------+---------------+-----------------+----------------------------+----------------+---------------+--------------+--------------+--------------+--------------+-------------+---------------------+---------------+------------------------+------------------+---------------+-----------------+----------------------------+----------------+---------------+--------------+--------------+--------------+--------------+-------------+---------------------+---------------+------------------------+------------------+------------------+--------------+--------------+------------------+-------------------+------------------------+------------------------+------------------------+------------------------+----------------------+---------------+---------------+---------------+---------------+---------------+---------------+---------------+---------------+----------------+----------------+----------------+----------------+----------------+----------------+----------------+----------------+----------------+----------------+----------------+----------------+--------------------------+-------------------------+--------------------------+-------------------------+-------------------------+--------------------------+\n",
            "|SK_ID_CURR|TARGET|NAME_CONTRACT_TYPE|CODE_GENDER|FLAG_OWN_CAR|FLAG_OWN_REALTY|CNT_CHILDREN|AMT_INCOME_TOTAL|AMT_CREDIT|AMT_ANNUITY|AMT_GOODS_PRICE|NAME_TYPE_SUITE|NAME_INCOME_TYPE| NAME_EDUCATION_TYPE|  NAME_FAMILY_STATUS|NAME_HOUSING_TYPE|REGION_POPULATION_RELATIVE|DAYS_BIRTH|DAYS_EMPLOYED|DAYS_REGISTRATION|DAYS_ID_PUBLISH|OWN_CAR_AGE|FLAG_MOBIL|FLAG_EMP_PHONE|FLAG_WORK_PHONE|FLAG_CONT_MOBILE|FLAG_PHONE|FLAG_EMAIL|OCCUPATION_TYPE|CNT_FAM_MEMBERS|REGION_RATING_CLIENT|REGION_RATING_CLIENT_W_CITY|WEEKDAY_APPR_PROCESS_START|HOUR_APPR_PROCESS_START|REG_REGION_NOT_LIVE_REGION|REG_REGION_NOT_WORK_REGION|LIVE_REGION_NOT_WORK_REGION|REG_CITY_NOT_LIVE_CITY|REG_CITY_NOT_WORK_CITY|LIVE_CITY_NOT_WORK_CITY|   ORGANIZATION_TYPE|       EXT_SOURCE_1|      EXT_SOURCE_2|       EXT_SOURCE_3|APARTMENTS_AVG|BASEMENTAREA_AVG|YEARS_BEGINEXPLUATATION_AVG|   YEARS_BUILD_AVG|COMMONAREA_AVG|ELEVATORS_AVG|ENTRANCES_AVG|FLOORSMAX_AVG|FLOORSMIN_AVG|LANDAREA_AVG|LIVINGAPARTMENTS_AVG|LIVINGAREA_AVG|NONLIVINGAPARTMENTS_AVG|NONLIVINGAREA_AVG|APARTMENTS_MODE|BASEMENTAREA_MODE|YEARS_BEGINEXPLUATATION_MODE|YEARS_BUILD_MODE|COMMONAREA_MODE|ELEVATORS_MODE|ENTRANCES_MODE|FLOORSMAX_MODE|FLOORSMIN_MODE|LANDAREA_MODE|LIVINGAPARTMENTS_MODE|LIVINGAREA_MODE|NONLIVINGAPARTMENTS_MODE|NONLIVINGAREA_MODE|APARTMENTS_MEDI|BASEMENTAREA_MEDI|YEARS_BEGINEXPLUATATION_MEDI|YEARS_BUILD_MEDI|COMMONAREA_MEDI|ELEVATORS_MEDI|ENTRANCES_MEDI|FLOORSMAX_MEDI|FLOORSMIN_MEDI|LANDAREA_MEDI|LIVINGAPARTMENTS_MEDI|LIVINGAREA_MEDI|NONLIVINGAPARTMENTS_MEDI|NONLIVINGAREA_MEDI|FONDKAPREMONT_MODE|HOUSETYPE_MODE|TOTALAREA_MODE|WALLSMATERIAL_MODE|EMERGENCYSTATE_MODE|OBS_30_CNT_SOCIAL_CIRCLE|DEF_30_CNT_SOCIAL_CIRCLE|OBS_60_CNT_SOCIAL_CIRCLE|DEF_60_CNT_SOCIAL_CIRCLE|DAYS_LAST_PHONE_CHANGE|FLAG_DOCUMENT_2|FLAG_DOCUMENT_3|FLAG_DOCUMENT_4|FLAG_DOCUMENT_5|FLAG_DOCUMENT_6|FLAG_DOCUMENT_7|FLAG_DOCUMENT_8|FLAG_DOCUMENT_9|FLAG_DOCUMENT_10|FLAG_DOCUMENT_11|FLAG_DOCUMENT_12|FLAG_DOCUMENT_13|FLAG_DOCUMENT_14|FLAG_DOCUMENT_15|FLAG_DOCUMENT_16|FLAG_DOCUMENT_17|FLAG_DOCUMENT_18|FLAG_DOCUMENT_19|FLAG_DOCUMENT_20|FLAG_DOCUMENT_21|AMT_REQ_CREDIT_BUREAU_HOUR|AMT_REQ_CREDIT_BUREAU_DAY|AMT_REQ_CREDIT_BUREAU_WEEK|AMT_REQ_CREDIT_BUREAU_MON|AMT_REQ_CREDIT_BUREAU_QRT|AMT_REQ_CREDIT_BUREAU_YEAR|\n",
            "+----------+------+------------------+-----------+------------+---------------+------------+----------------+----------+-----------+---------------+---------------+----------------+--------------------+--------------------+-----------------+--------------------------+----------+-------------+-----------------+---------------+-----------+----------+--------------+---------------+----------------+----------+----------+---------------+---------------+--------------------+---------------------------+--------------------------+-----------------------+--------------------------+--------------------------+---------------------------+----------------------+----------------------+-----------------------+--------------------+-------------------+------------------+-------------------+--------------+----------------+---------------------------+------------------+--------------+-------------+-------------+-------------+-------------+------------+--------------------+--------------+-----------------------+-----------------+---------------+-----------------+----------------------------+----------------+---------------+--------------+--------------+--------------+--------------+-------------+---------------------+---------------+------------------------+------------------+---------------+-----------------+----------------------------+----------------+---------------+--------------+--------------+--------------+--------------+-------------+---------------------+---------------+------------------------+------------------+------------------+--------------+--------------+------------------+-------------------+------------------------+------------------------+------------------------+------------------------+----------------------+---------------+---------------+---------------+---------------+---------------+---------------+---------------+---------------+----------------+----------------+----------------+----------------+----------------+----------------+----------------+----------------+----------------+----------------+----------------+----------------+--------------------------+-------------------------+--------------------------+-------------------------+-------------------------+--------------------------+\n",
            "|    100002|     1|        Cash loans|          M|           N|              Y|           0|        202500.0|  406597.5|    24700.5|       351000.0|  Unaccompanied|         Working|Secondary / secon...|Single / not married|House / apartment|                  0.018801|     -9461|         -637|          -3648.0|          -2120|       NULL|         1|             1|              0|               1|         1|         0|       Laborers|            1.0|                   2|                          2|                 WEDNESDAY|                     10|                         0|                         0|                          0|                     0|                     0|                      0|Business Entity T...|0.08303696739132256|0.2629485927471776|0.13937578009978951|        0.0247|          0.0369|                     0.9722|            0.6192|        0.0143|          0.0|        0.069|       0.0833|        0.125|      0.0369|              0.0202|         0.019|                    0.0|              0.0|         0.0252|           0.0383|                      0.9722|          0.6341|         0.0144|           0.0|         0.069|        0.0833|         0.125|       0.0377|                0.022|         0.0198|                     0.0|               0.0|          0.025|           0.0369|                      0.9722|          0.6243|         0.0144|           0.0|         0.069|        0.0833|         0.125|       0.0375|               0.0205|         0.0193|                     0.0|               0.0|  reg oper account|block of flats|        0.0149|      Stone, brick|                 No|                     2.0|                     2.0|                     2.0|                     2.0|               -1134.0|              0|              1|              0|              0|              0|              0|              0|              0|               0|               0|               0|               0|               0|               0|               0|               0|               0|               0|               0|               0|                       0.0|                      0.0|                       0.0|                      0.0|                      0.0|                       1.0|\n",
            "|    100003|     0|        Cash loans|          F|           N|              N|           0|        270000.0| 1293502.5|    35698.5|      1129500.0|         Family|   State servant|    Higher education|             Married|House / apartment|      0.003540999999999999|    -16765|        -1188|          -1186.0|           -291|       NULL|         1|             1|              0|               1|         1|         0|     Core staff|            2.0|                   1|                          1|                    MONDAY|                     11|                         0|                         0|                          0|                     0|                     0|                      0|              School| 0.3112673113812225|0.6222457752555098|               NULL|        0.0959|          0.0529|                     0.9851|0.7959999999999999|        0.0605|         0.08|       0.0345|       0.2917|       0.3333|       0.013|              0.0773|        0.0549|                 0.0039|           0.0098|         0.0924|           0.0538|                      0.9851|           0.804|         0.0497|        0.0806|        0.0345|        0.2917|        0.3333|       0.0128|                0.079|         0.0554|                     0.0|               0.0|         0.0968|           0.0529|                      0.9851|          0.7987|         0.0608|          0.08|        0.0345|        0.2917|        0.3333|       0.0132|               0.0787|         0.0558|                  0.0039|              0.01|  reg oper account|block of flats|        0.0714|             Block|                 No|                     1.0|                     0.0|                     1.0|                     0.0|                -828.0|              0|              1|              0|              0|              0|              0|              0|              0|               0|               0|               0|               0|               0|               0|               0|               0|               0|               0|               0|               0|                       0.0|                      0.0|                       0.0|                      0.0|                      0.0|                       0.0|\n",
            "|    100004|     0|   Revolving loans|          M|           Y|              Y|           0|         67500.0|  135000.0|     6750.0|       135000.0|  Unaccompanied|         Working|Secondary / secon...|Single / not married|House / apartment|                  0.010032|    -19046|         -225|          -4260.0|          -2531|       26.0|         1|             1|              1|               1|         1|         0|       Laborers|            1.0|                   2|                          2|                    MONDAY|                      9|                         0|                         0|                          0|                     0|                     0|                      0|          Government|               NULL|0.5559120833904428| 0.7295666907060153|          NULL|            NULL|                       NULL|              NULL|          NULL|         NULL|         NULL|         NULL|         NULL|        NULL|                NULL|          NULL|                   NULL|             NULL|           NULL|             NULL|                        NULL|            NULL|           NULL|          NULL|          NULL|          NULL|          NULL|         NULL|                 NULL|           NULL|                    NULL|              NULL|           NULL|             NULL|                        NULL|            NULL|           NULL|          NULL|          NULL|          NULL|          NULL|         NULL|                 NULL|           NULL|                    NULL|              NULL|              NULL|          NULL|          NULL|              NULL|               NULL|                     0.0|                     0.0|                     0.0|                     0.0|                -815.0|              0|              0|              0|              0|              0|              0|              0|              0|               0|               0|               0|               0|               0|               0|               0|               0|               0|               0|               0|               0|                       0.0|                      0.0|                       0.0|                      0.0|                      0.0|                       0.0|\n",
            "|    100006|     0|        Cash loans|          F|           N|              Y|           0|        135000.0|  312682.5|    29686.5|       297000.0|  Unaccompanied|         Working|Secondary / secon...|      Civil marriage|House / apartment|                  0.008019|    -19005|        -3039|          -9833.0|          -2437|       NULL|         1|             1|              0|               1|         0|         0|       Laborers|            2.0|                   2|                          2|                 WEDNESDAY|                     17|                         0|                         0|                          0|                     0|                     0|                      0|Business Entity T...|               NULL|0.6504416904014653|               NULL|          NULL|            NULL|                       NULL|              NULL|          NULL|         NULL|         NULL|         NULL|         NULL|        NULL|                NULL|          NULL|                   NULL|             NULL|           NULL|             NULL|                        NULL|            NULL|           NULL|          NULL|          NULL|          NULL|          NULL|         NULL|                 NULL|           NULL|                    NULL|              NULL|           NULL|             NULL|                        NULL|            NULL|           NULL|          NULL|          NULL|          NULL|          NULL|         NULL|                 NULL|           NULL|                    NULL|              NULL|              NULL|          NULL|          NULL|              NULL|               NULL|                     2.0|                     0.0|                     2.0|                     0.0|                -617.0|              0|              1|              0|              0|              0|              0|              0|              0|               0|               0|               0|               0|               0|               0|               0|               0|               0|               0|               0|               0|                      NULL|                     NULL|                      NULL|                     NULL|                     NULL|                      NULL|\n",
            "|    100007|     0|        Cash loans|          M|           N|              Y|           0|        121500.0|  513000.0|    21865.5|       513000.0|  Unaccompanied|         Working|Secondary / secon...|Single / not married|House / apartment|                  0.028663|    -19932|        -3038|          -4311.0|          -3458|       NULL|         1|             1|              0|               1|         0|         0|     Core staff|            1.0|                   2|                          2|                  THURSDAY|                     11|                         0|                         0|                          0|                     0|                     1|                      1|            Religion|               NULL|0.3227382869704046|               NULL|          NULL|            NULL|                       NULL|              NULL|          NULL|         NULL|         NULL|         NULL|         NULL|        NULL|                NULL|          NULL|                   NULL|             NULL|           NULL|             NULL|                        NULL|            NULL|           NULL|          NULL|          NULL|          NULL|          NULL|         NULL|                 NULL|           NULL|                    NULL|              NULL|           NULL|             NULL|                        NULL|            NULL|           NULL|          NULL|          NULL|          NULL|          NULL|         NULL|                 NULL|           NULL|                    NULL|              NULL|              NULL|          NULL|          NULL|              NULL|               NULL|                     0.0|                     0.0|                     0.0|                     0.0|               -1106.0|              0|              0|              0|              0|              0|              0|              1|              0|               0|               0|               0|               0|               0|               0|               0|               0|               0|               0|               0|               0|                       0.0|                      0.0|                       0.0|                      0.0|                      0.0|                       0.0|\n",
            "+----------+------+------------------+-----------+------------+---------------+------------+----------------+----------+-----------+---------------+---------------+----------------+--------------------+--------------------+-----------------+--------------------------+----------+-------------+-----------------+---------------+-----------+----------+--------------+---------------+----------------+----------+----------+---------------+---------------+--------------------+---------------------------+--------------------------+-----------------------+--------------------------+--------------------------+---------------------------+----------------------+----------------------+-----------------------+--------------------+-------------------+------------------+-------------------+--------------+----------------+---------------------------+------------------+--------------+-------------+-------------+-------------+-------------+------------+--------------------+--------------+-----------------------+-----------------+---------------+-----------------+----------------------------+----------------+---------------+--------------+--------------+--------------+--------------+-------------+---------------------+---------------+------------------------+------------------+---------------+-----------------+----------------------------+----------------+---------------+--------------+--------------+--------------+--------------+-------------+---------------------+---------------+------------------------+------------------+------------------+--------------+--------------+------------------+-------------------+------------------------+------------------------+------------------------+------------------------+----------------------+---------------+---------------+---------------+---------------+---------------+---------------+---------------+---------------+----------------+----------------+----------------+----------------+----------------+----------------+----------------+----------------+----------------+----------------+----------------+----------------+--------------------------+-------------------------+--------------------------+-------------------------+-------------------------+--------------------------+\n",
            "only showing top 5 rows\n",
            "\n"
          ]
        }
      ],
      "source": [
        "application_train.show(5)"
      ]
    },
    {
      "cell_type": "markdown",
      "source": [
        "Dữ liệu bảng bureau"
      ],
      "metadata": {
        "id": "Uh1Z-zaJxiIE"
      }
    },
    {
      "cell_type": "code",
      "execution_count": null,
      "metadata": {
        "colab": {
          "base_uri": "https://localhost:8080/"
        },
        "id": "E4RuSzJAJVpV",
        "outputId": "76193cbd-9182-4c06-a3e0-6ecf5f21582f"
      },
      "outputs": [
        {
          "output_type": "stream",
          "name": "stdout",
          "text": [
            "+----------+------------+-------------+---------------+-----------+------------------+-------------------+-----------------+----------------------+------------------+--------------+-------------------+--------------------+----------------------+---------------+------------------+-----------+\n",
            "|SK_ID_CURR|SK_ID_BUREAU|CREDIT_ACTIVE|CREDIT_CURRENCY|DAYS_CREDIT|CREDIT_DAY_OVERDUE|DAYS_CREDIT_ENDDATE|DAYS_ENDDATE_FACT|AMT_CREDIT_MAX_OVERDUE|CNT_CREDIT_PROLONG|AMT_CREDIT_SUM|AMT_CREDIT_SUM_DEBT|AMT_CREDIT_SUM_LIMIT|AMT_CREDIT_SUM_OVERDUE|    CREDIT_TYPE|DAYS_CREDIT_UPDATE|AMT_ANNUITY|\n",
            "+----------+------------+-------------+---------------+-----------+------------------+-------------------+-----------------+----------------------+------------------+--------------+-------------------+--------------------+----------------------+---------------+------------------+-----------+\n",
            "|    215354|     5714462|       Closed|     currency 1|       -497|                 0|             -153.0|           -153.0|                  NULL|                 0|       91323.0|                0.0|                NULL|                   0.0|Consumer credit|              -131|       NULL|\n",
            "|    215354|     5714463|       Active|     currency 1|       -208|                 0|             1075.0|             NULL|                  NULL|                 0|      225000.0|           171342.0|                NULL|                   0.0|    Credit card|               -20|       NULL|\n",
            "|    215354|     5714464|       Active|     currency 1|       -203|                 0|              528.0|             NULL|                  NULL|                 0|      464323.5|               NULL|                NULL|                   0.0|Consumer credit|               -16|       NULL|\n",
            "|    215354|     5714465|       Active|     currency 1|       -203|                 0|               NULL|             NULL|                  NULL|                 0|       90000.0|               NULL|                NULL|                   0.0|    Credit card|               -16|       NULL|\n",
            "|    215354|     5714466|       Active|     currency 1|       -629|                 0|             1197.0|             NULL|               77674.5|                 0|     2700000.0|               NULL|                NULL|                   0.0|Consumer credit|               -21|       NULL|\n",
            "+----------+------------+-------------+---------------+-----------+------------------+-------------------+-----------------+----------------------+------------------+--------------+-------------------+--------------------+----------------------+---------------+------------------+-----------+\n",
            "only showing top 5 rows\n",
            "\n"
          ]
        }
      ],
      "source": [
        "bureau.show(5)"
      ]
    },
    {
      "cell_type": "code",
      "execution_count": null,
      "metadata": {
        "colab": {
          "base_uri": "https://localhost:8080/"
        },
        "collapsed": true,
        "id": "CLpq1BAxJbf_",
        "outputId": "59e693bb-6a9a-4542-c96f-997d3cc0e943"
      },
      "outputs": [
        {
          "output_type": "stream",
          "name": "stdout",
          "text": [
            "root\n",
            " |-- SK_ID_CURR: integer (nullable = true)\n",
            " |-- TARGET: integer (nullable = true)\n",
            " |-- NAME_CONTRACT_TYPE: string (nullable = true)\n",
            " |-- CODE_GENDER: string (nullable = true)\n",
            " |-- FLAG_OWN_CAR: string (nullable = true)\n",
            " |-- FLAG_OWN_REALTY: string (nullable = true)\n",
            " |-- CNT_CHILDREN: integer (nullable = true)\n",
            " |-- AMT_INCOME_TOTAL: double (nullable = true)\n",
            " |-- AMT_CREDIT: double (nullable = true)\n",
            " |-- AMT_ANNUITY: double (nullable = true)\n",
            " |-- AMT_GOODS_PRICE: double (nullable = true)\n",
            " |-- NAME_TYPE_SUITE: string (nullable = true)\n",
            " |-- NAME_INCOME_TYPE: string (nullable = true)\n",
            " |-- NAME_EDUCATION_TYPE: string (nullable = true)\n",
            " |-- NAME_FAMILY_STATUS: string (nullable = true)\n",
            " |-- NAME_HOUSING_TYPE: string (nullable = true)\n",
            " |-- REGION_POPULATION_RELATIVE: double (nullable = true)\n",
            " |-- DAYS_BIRTH: integer (nullable = true)\n",
            " |-- DAYS_EMPLOYED: integer (nullable = true)\n",
            " |-- DAYS_REGISTRATION: double (nullable = true)\n",
            " |-- DAYS_ID_PUBLISH: integer (nullable = true)\n",
            " |-- OWN_CAR_AGE: double (nullable = true)\n",
            " |-- FLAG_MOBIL: integer (nullable = true)\n",
            " |-- FLAG_EMP_PHONE: integer (nullable = true)\n",
            " |-- FLAG_WORK_PHONE: integer (nullable = true)\n",
            " |-- FLAG_CONT_MOBILE: integer (nullable = true)\n",
            " |-- FLAG_PHONE: integer (nullable = true)\n",
            " |-- FLAG_EMAIL: integer (nullable = true)\n",
            " |-- OCCUPATION_TYPE: string (nullable = true)\n",
            " |-- CNT_FAM_MEMBERS: double (nullable = true)\n",
            " |-- REGION_RATING_CLIENT: integer (nullable = true)\n",
            " |-- REGION_RATING_CLIENT_W_CITY: integer (nullable = true)\n",
            " |-- WEEKDAY_APPR_PROCESS_START: string (nullable = true)\n",
            " |-- HOUR_APPR_PROCESS_START: integer (nullable = true)\n",
            " |-- REG_REGION_NOT_LIVE_REGION: integer (nullable = true)\n",
            " |-- REG_REGION_NOT_WORK_REGION: integer (nullable = true)\n",
            " |-- LIVE_REGION_NOT_WORK_REGION: integer (nullable = true)\n",
            " |-- REG_CITY_NOT_LIVE_CITY: integer (nullable = true)\n",
            " |-- REG_CITY_NOT_WORK_CITY: integer (nullable = true)\n",
            " |-- LIVE_CITY_NOT_WORK_CITY: integer (nullable = true)\n",
            " |-- ORGANIZATION_TYPE: string (nullable = true)\n",
            " |-- EXT_SOURCE_1: double (nullable = true)\n",
            " |-- EXT_SOURCE_2: double (nullable = true)\n",
            " |-- EXT_SOURCE_3: double (nullable = true)\n",
            " |-- APARTMENTS_AVG: double (nullable = true)\n",
            " |-- BASEMENTAREA_AVG: double (nullable = true)\n",
            " |-- YEARS_BEGINEXPLUATATION_AVG: double (nullable = true)\n",
            " |-- YEARS_BUILD_AVG: double (nullable = true)\n",
            " |-- COMMONAREA_AVG: double (nullable = true)\n",
            " |-- ELEVATORS_AVG: double (nullable = true)\n",
            " |-- ENTRANCES_AVG: double (nullable = true)\n",
            " |-- FLOORSMAX_AVG: double (nullable = true)\n",
            " |-- FLOORSMIN_AVG: double (nullable = true)\n",
            " |-- LANDAREA_AVG: double (nullable = true)\n",
            " |-- LIVINGAPARTMENTS_AVG: double (nullable = true)\n",
            " |-- LIVINGAREA_AVG: double (nullable = true)\n",
            " |-- NONLIVINGAPARTMENTS_AVG: double (nullable = true)\n",
            " |-- NONLIVINGAREA_AVG: double (nullable = true)\n",
            " |-- APARTMENTS_MODE: double (nullable = true)\n",
            " |-- BASEMENTAREA_MODE: double (nullable = true)\n",
            " |-- YEARS_BEGINEXPLUATATION_MODE: double (nullable = true)\n",
            " |-- YEARS_BUILD_MODE: double (nullable = true)\n",
            " |-- COMMONAREA_MODE: double (nullable = true)\n",
            " |-- ELEVATORS_MODE: double (nullable = true)\n",
            " |-- ENTRANCES_MODE: double (nullable = true)\n",
            " |-- FLOORSMAX_MODE: double (nullable = true)\n",
            " |-- FLOORSMIN_MODE: double (nullable = true)\n",
            " |-- LANDAREA_MODE: double (nullable = true)\n",
            " |-- LIVINGAPARTMENTS_MODE: double (nullable = true)\n",
            " |-- LIVINGAREA_MODE: double (nullable = true)\n",
            " |-- NONLIVINGAPARTMENTS_MODE: double (nullable = true)\n",
            " |-- NONLIVINGAREA_MODE: double (nullable = true)\n",
            " |-- APARTMENTS_MEDI: double (nullable = true)\n",
            " |-- BASEMENTAREA_MEDI: double (nullable = true)\n",
            " |-- YEARS_BEGINEXPLUATATION_MEDI: double (nullable = true)\n",
            " |-- YEARS_BUILD_MEDI: double (nullable = true)\n",
            " |-- COMMONAREA_MEDI: double (nullable = true)\n",
            " |-- ELEVATORS_MEDI: double (nullable = true)\n",
            " |-- ENTRANCES_MEDI: double (nullable = true)\n",
            " |-- FLOORSMAX_MEDI: double (nullable = true)\n",
            " |-- FLOORSMIN_MEDI: double (nullable = true)\n",
            " |-- LANDAREA_MEDI: double (nullable = true)\n",
            " |-- LIVINGAPARTMENTS_MEDI: double (nullable = true)\n",
            " |-- LIVINGAREA_MEDI: double (nullable = true)\n",
            " |-- NONLIVINGAPARTMENTS_MEDI: double (nullable = true)\n",
            " |-- NONLIVINGAREA_MEDI: double (nullable = true)\n",
            " |-- FONDKAPREMONT_MODE: string (nullable = true)\n",
            " |-- HOUSETYPE_MODE: string (nullable = true)\n",
            " |-- TOTALAREA_MODE: double (nullable = true)\n",
            " |-- WALLSMATERIAL_MODE: string (nullable = true)\n",
            " |-- EMERGENCYSTATE_MODE: string (nullable = true)\n",
            " |-- OBS_30_CNT_SOCIAL_CIRCLE: double (nullable = true)\n",
            " |-- DEF_30_CNT_SOCIAL_CIRCLE: double (nullable = true)\n",
            " |-- OBS_60_CNT_SOCIAL_CIRCLE: double (nullable = true)\n",
            " |-- DEF_60_CNT_SOCIAL_CIRCLE: double (nullable = true)\n",
            " |-- DAYS_LAST_PHONE_CHANGE: double (nullable = true)\n",
            " |-- FLAG_DOCUMENT_2: integer (nullable = true)\n",
            " |-- FLAG_DOCUMENT_3: integer (nullable = true)\n",
            " |-- FLAG_DOCUMENT_4: integer (nullable = true)\n",
            " |-- FLAG_DOCUMENT_5: integer (nullable = true)\n",
            " |-- FLAG_DOCUMENT_6: integer (nullable = true)\n",
            " |-- FLAG_DOCUMENT_7: integer (nullable = true)\n",
            " |-- FLAG_DOCUMENT_8: integer (nullable = true)\n",
            " |-- FLAG_DOCUMENT_9: integer (nullable = true)\n",
            " |-- FLAG_DOCUMENT_10: integer (nullable = true)\n",
            " |-- FLAG_DOCUMENT_11: integer (nullable = true)\n",
            " |-- FLAG_DOCUMENT_12: integer (nullable = true)\n",
            " |-- FLAG_DOCUMENT_13: integer (nullable = true)\n",
            " |-- FLAG_DOCUMENT_14: integer (nullable = true)\n",
            " |-- FLAG_DOCUMENT_15: integer (nullable = true)\n",
            " |-- FLAG_DOCUMENT_16: integer (nullable = true)\n",
            " |-- FLAG_DOCUMENT_17: integer (nullable = true)\n",
            " |-- FLAG_DOCUMENT_18: integer (nullable = true)\n",
            " |-- FLAG_DOCUMENT_19: integer (nullable = true)\n",
            " |-- FLAG_DOCUMENT_20: integer (nullable = true)\n",
            " |-- FLAG_DOCUMENT_21: integer (nullable = true)\n",
            " |-- AMT_REQ_CREDIT_BUREAU_HOUR: double (nullable = true)\n",
            " |-- AMT_REQ_CREDIT_BUREAU_DAY: double (nullable = true)\n",
            " |-- AMT_REQ_CREDIT_BUREAU_WEEK: double (nullable = true)\n",
            " |-- AMT_REQ_CREDIT_BUREAU_MON: double (nullable = true)\n",
            " |-- AMT_REQ_CREDIT_BUREAU_QRT: double (nullable = true)\n",
            " |-- AMT_REQ_CREDIT_BUREAU_YEAR: double (nullable = true)\n",
            "\n"
          ]
        }
      ],
      "source": [
        "application_train.printSchema()"
      ]
    },
    {
      "cell_type": "code",
      "execution_count": null,
      "metadata": {
        "colab": {
          "base_uri": "https://localhost:8080/"
        },
        "id": "pn-zoC5hs7Wd",
        "outputId": "6d07a565-d020-4eb3-83fc-cf13323ea3ab"
      },
      "outputs": [
        {
          "output_type": "stream",
          "name": "stdout",
          "text": [
            "root\n",
            " |-- SK_ID_CURR: integer (nullable = true)\n",
            " |-- SK_ID_BUREAU: integer (nullable = true)\n",
            " |-- CREDIT_ACTIVE: string (nullable = true)\n",
            " |-- CREDIT_CURRENCY: string (nullable = true)\n",
            " |-- DAYS_CREDIT: integer (nullable = true)\n",
            " |-- CREDIT_DAY_OVERDUE: integer (nullable = true)\n",
            " |-- DAYS_CREDIT_ENDDATE: double (nullable = true)\n",
            " |-- DAYS_ENDDATE_FACT: double (nullable = true)\n",
            " |-- AMT_CREDIT_MAX_OVERDUE: double (nullable = true)\n",
            " |-- CNT_CREDIT_PROLONG: integer (nullable = true)\n",
            " |-- AMT_CREDIT_SUM: double (nullable = true)\n",
            " |-- AMT_CREDIT_SUM_DEBT: double (nullable = true)\n",
            " |-- AMT_CREDIT_SUM_LIMIT: double (nullable = true)\n",
            " |-- AMT_CREDIT_SUM_OVERDUE: double (nullable = true)\n",
            " |-- CREDIT_TYPE: string (nullable = true)\n",
            " |-- DAYS_CREDIT_UPDATE: integer (nullable = true)\n",
            " |-- AMT_ANNUITY: double (nullable = true)\n",
            "\n"
          ]
        }
      ],
      "source": [
        "bureau.printSchema()"
      ]
    },
    {
      "cell_type": "markdown",
      "source": [
        "Số dòng, cột bảng application"
      ],
      "metadata": {
        "id": "VT0yZewJxwTm"
      }
    },
    {
      "cell_type": "code",
      "execution_count": null,
      "metadata": {
        "colab": {
          "base_uri": "https://localhost:8080/"
        },
        "id": "ythVSqPY7Mpf",
        "outputId": "41a4363e-bfbf-42cc-90e3-ccb2ad21694d"
      },
      "outputs": [
        {
          "output_type": "stream",
          "name": "stdout",
          "text": [
            "Number of rows: 307511\n",
            "Number of columns: 122\n"
          ]
        }
      ],
      "source": [
        "num_rows = application_train.count()\n",
        "num_cols = len(application_train.columns)\n",
        "\n",
        "print(f\"Number of rows: {num_rows}\")\n",
        "print(f\"Number of columns: {num_cols}\")"
      ]
    },
    {
      "cell_type": "markdown",
      "source": [
        "Số dòng, cột bảng bureau"
      ],
      "metadata": {
        "id": "ctPxr9anyA7r"
      }
    },
    {
      "cell_type": "code",
      "execution_count": null,
      "metadata": {
        "colab": {
          "base_uri": "https://localhost:8080/"
        },
        "id": "2_WtHj6WtDVJ",
        "outputId": "aae571ef-04df-4e9a-808b-f8831a27a12f"
      },
      "outputs": [
        {
          "output_type": "stream",
          "name": "stdout",
          "text": [
            "Number of rows: 1716428\n",
            "Number of columns: 17\n"
          ]
        }
      ],
      "source": [
        "num_rows = bureau.count()\n",
        "num_cols = len(bureau.columns)\n",
        "\n",
        "print(f\"Number of rows: {num_rows}\")\n",
        "print(f\"Number of columns: {num_cols}\")"
      ]
    },
    {
      "cell_type": "markdown",
      "metadata": {
        "id": "6RNC3HdoI95M"
      },
      "source": [
        "# Xử lý dữ liệu\n"
      ]
    },
    {
      "cell_type": "markdown",
      "source": [
        "Các giá trị khuyết thiếu của hai bảng dữ liệu."
      ],
      "metadata": {
        "id": "X4HzNEpiyUcs"
      }
    },
    {
      "cell_type": "code",
      "execution_count": null,
      "metadata": {
        "colab": {
          "base_uri": "https://localhost:8080/"
        },
        "id": "SvH1TOStjNH5",
        "outputId": "da5c0e97-e574-42fc-b830-dacb2471f06c"
      },
      "outputs": [
        {
          "output_type": "stream",
          "name": "stdout",
          "text": [
            "+----------+------+------------------+-----------+------------+---------------+------------+----------------+----------+-----------+---------------+---------------+----------------+-------------------+------------------+-----------------+--------------------------+----------+-------------+-----------------+---------------+-----------+----------+--------------+---------------+----------------+----------+----------+---------------+---------------+--------------------+---------------------------+--------------------------+-----------------------+--------------------------+--------------------------+---------------------------+----------------------+----------------------+-----------------------+-----------------+------------+------------+------------+--------------+----------------+---------------------------+---------------+--------------+-------------+-------------+-------------+-------------+------------+--------------------+--------------+-----------------------+-----------------+---------------+-----------------+----------------------------+----------------+---------------+--------------+--------------+--------------+--------------+-------------+---------------------+---------------+------------------------+------------------+---------------+-----------------+----------------------------+----------------+---------------+--------------+--------------+--------------+--------------+-------------+---------------------+---------------+------------------------+------------------+------------------+--------------+--------------+------------------+-------------------+------------------------+------------------------+------------------------+------------------------+----------------------+---------------+---------------+---------------+---------------+---------------+---------------+---------------+---------------+----------------+----------------+----------------+----------------+----------------+----------------+----------------+----------------+----------------+----------------+----------------+----------------+--------------------------+-------------------------+--------------------------+-------------------------+-------------------------+--------------------------+\n",
            "|SK_ID_CURR|TARGET|NAME_CONTRACT_TYPE|CODE_GENDER|FLAG_OWN_CAR|FLAG_OWN_REALTY|CNT_CHILDREN|AMT_INCOME_TOTAL|AMT_CREDIT|AMT_ANNUITY|AMT_GOODS_PRICE|NAME_TYPE_SUITE|NAME_INCOME_TYPE|NAME_EDUCATION_TYPE|NAME_FAMILY_STATUS|NAME_HOUSING_TYPE|REGION_POPULATION_RELATIVE|DAYS_BIRTH|DAYS_EMPLOYED|DAYS_REGISTRATION|DAYS_ID_PUBLISH|OWN_CAR_AGE|FLAG_MOBIL|FLAG_EMP_PHONE|FLAG_WORK_PHONE|FLAG_CONT_MOBILE|FLAG_PHONE|FLAG_EMAIL|OCCUPATION_TYPE|CNT_FAM_MEMBERS|REGION_RATING_CLIENT|REGION_RATING_CLIENT_W_CITY|WEEKDAY_APPR_PROCESS_START|HOUR_APPR_PROCESS_START|REG_REGION_NOT_LIVE_REGION|REG_REGION_NOT_WORK_REGION|LIVE_REGION_NOT_WORK_REGION|REG_CITY_NOT_LIVE_CITY|REG_CITY_NOT_WORK_CITY|LIVE_CITY_NOT_WORK_CITY|ORGANIZATION_TYPE|EXT_SOURCE_1|EXT_SOURCE_2|EXT_SOURCE_3|APARTMENTS_AVG|BASEMENTAREA_AVG|YEARS_BEGINEXPLUATATION_AVG|YEARS_BUILD_AVG|COMMONAREA_AVG|ELEVATORS_AVG|ENTRANCES_AVG|FLOORSMAX_AVG|FLOORSMIN_AVG|LANDAREA_AVG|LIVINGAPARTMENTS_AVG|LIVINGAREA_AVG|NONLIVINGAPARTMENTS_AVG|NONLIVINGAREA_AVG|APARTMENTS_MODE|BASEMENTAREA_MODE|YEARS_BEGINEXPLUATATION_MODE|YEARS_BUILD_MODE|COMMONAREA_MODE|ELEVATORS_MODE|ENTRANCES_MODE|FLOORSMAX_MODE|FLOORSMIN_MODE|LANDAREA_MODE|LIVINGAPARTMENTS_MODE|LIVINGAREA_MODE|NONLIVINGAPARTMENTS_MODE|NONLIVINGAREA_MODE|APARTMENTS_MEDI|BASEMENTAREA_MEDI|YEARS_BEGINEXPLUATATION_MEDI|YEARS_BUILD_MEDI|COMMONAREA_MEDI|ELEVATORS_MEDI|ENTRANCES_MEDI|FLOORSMAX_MEDI|FLOORSMIN_MEDI|LANDAREA_MEDI|LIVINGAPARTMENTS_MEDI|LIVINGAREA_MEDI|NONLIVINGAPARTMENTS_MEDI|NONLIVINGAREA_MEDI|FONDKAPREMONT_MODE|HOUSETYPE_MODE|TOTALAREA_MODE|WALLSMATERIAL_MODE|EMERGENCYSTATE_MODE|OBS_30_CNT_SOCIAL_CIRCLE|DEF_30_CNT_SOCIAL_CIRCLE|OBS_60_CNT_SOCIAL_CIRCLE|DEF_60_CNT_SOCIAL_CIRCLE|DAYS_LAST_PHONE_CHANGE|FLAG_DOCUMENT_2|FLAG_DOCUMENT_3|FLAG_DOCUMENT_4|FLAG_DOCUMENT_5|FLAG_DOCUMENT_6|FLAG_DOCUMENT_7|FLAG_DOCUMENT_8|FLAG_DOCUMENT_9|FLAG_DOCUMENT_10|FLAG_DOCUMENT_11|FLAG_DOCUMENT_12|FLAG_DOCUMENT_13|FLAG_DOCUMENT_14|FLAG_DOCUMENT_15|FLAG_DOCUMENT_16|FLAG_DOCUMENT_17|FLAG_DOCUMENT_18|FLAG_DOCUMENT_19|FLAG_DOCUMENT_20|FLAG_DOCUMENT_21|AMT_REQ_CREDIT_BUREAU_HOUR|AMT_REQ_CREDIT_BUREAU_DAY|AMT_REQ_CREDIT_BUREAU_WEEK|AMT_REQ_CREDIT_BUREAU_MON|AMT_REQ_CREDIT_BUREAU_QRT|AMT_REQ_CREDIT_BUREAU_YEAR|\n",
            "+----------+------+------------------+-----------+------------+---------------+------------+----------------+----------+-----------+---------------+---------------+----------------+-------------------+------------------+-----------------+--------------------------+----------+-------------+-----------------+---------------+-----------+----------+--------------+---------------+----------------+----------+----------+---------------+---------------+--------------------+---------------------------+--------------------------+-----------------------+--------------------------+--------------------------+---------------------------+----------------------+----------------------+-----------------------+-----------------+------------+------------+------------+--------------+----------------+---------------------------+---------------+--------------+-------------+-------------+-------------+-------------+------------+--------------------+--------------+-----------------------+-----------------+---------------+-----------------+----------------------------+----------------+---------------+--------------+--------------+--------------+--------------+-------------+---------------------+---------------+------------------------+------------------+---------------+-----------------+----------------------------+----------------+---------------+--------------+--------------+--------------+--------------+-------------+---------------------+---------------+------------------------+------------------+------------------+--------------+--------------+------------------+-------------------+------------------------+------------------------+------------------------+------------------------+----------------------+---------------+---------------+---------------+---------------+---------------+---------------+---------------+---------------+----------------+----------------+----------------+----------------+----------------+----------------+----------------+----------------+----------------+----------------+----------------+----------------+--------------------------+-------------------------+--------------------------+-------------------------+-------------------------+--------------------------+\n",
            "|         0|     0|                 0|          0|           0|              0|           0|               0|         0|         12|            278|           1292|               0|                  0|                 0|                0|                         0|         0|            0|                0|              0|     202929|         0|             0|              0|               0|         0|         0|          96391|              2|                   0|                          0|                         0|                      0|                         0|                         0|                          0|                     0|                     0|                      0|                0|      173378|         660|       60965|        156061|          179943|                     150007|         204488|        214865|       163891|       154828|       153020|       208642|      182590|              210199|        154350|                 213514|           169682|         156061|           179943|                      150007|          204488|         214865|        163891|        154828|        153020|        208642|       182590|               210199|         154350|                  213514|            169682|         156061|           179943|                      150007|          204488|         214865|        163891|        154828|        153020|        208642|       182590|               210199|         154350|                  213514|            169682|            210295|        154297|        148431|            156341|             145755|                    1021|                    1021|                    1021|                    1021|                     1|              0|              0|              0|              0|              0|              0|              0|              0|               0|               0|               0|               0|               0|               0|               0|               0|               0|               0|               0|               0|                     41519|                    41519|                     41519|                    41519|                    41519|                     41519|\n",
            "+----------+------+------------------+-----------+------------+---------------+------------+----------------+----------+-----------+---------------+---------------+----------------+-------------------+------------------+-----------------+--------------------------+----------+-------------+-----------------+---------------+-----------+----------+--------------+---------------+----------------+----------+----------+---------------+---------------+--------------------+---------------------------+--------------------------+-----------------------+--------------------------+--------------------------+---------------------------+----------------------+----------------------+-----------------------+-----------------+------------+------------+------------+--------------+----------------+---------------------------+---------------+--------------+-------------+-------------+-------------+-------------+------------+--------------------+--------------+-----------------------+-----------------+---------------+-----------------+----------------------------+----------------+---------------+--------------+--------------+--------------+--------------+-------------+---------------------+---------------+------------------------+------------------+---------------+-----------------+----------------------------+----------------+---------------+--------------+--------------+--------------+--------------+-------------+---------------------+---------------+------------------------+------------------+------------------+--------------+--------------+------------------+-------------------+------------------------+------------------------+------------------------+------------------------+----------------------+---------------+---------------+---------------+---------------+---------------+---------------+---------------+---------------+----------------+----------------+----------------+----------------+----------------+----------------+----------------+----------------+----------------+----------------+----------------+----------------+--------------------------+-------------------------+--------------------------+-------------------------+-------------------------+--------------------------+\n",
            "\n",
            "+----------+------------+-------------+---------------+-----------+------------------+-------------------+-----------------+----------------------+------------------+--------------+-------------------+--------------------+----------------------+-----------+------------------+-----------+\n",
            "|SK_ID_CURR|SK_ID_BUREAU|CREDIT_ACTIVE|CREDIT_CURRENCY|DAYS_CREDIT|CREDIT_DAY_OVERDUE|DAYS_CREDIT_ENDDATE|DAYS_ENDDATE_FACT|AMT_CREDIT_MAX_OVERDUE|CNT_CREDIT_PROLONG|AMT_CREDIT_SUM|AMT_CREDIT_SUM_DEBT|AMT_CREDIT_SUM_LIMIT|AMT_CREDIT_SUM_OVERDUE|CREDIT_TYPE|DAYS_CREDIT_UPDATE|AMT_ANNUITY|\n",
            "+----------+------------+-------------+---------------+-----------+------------------+-------------------+-----------------+----------------------+------------------+--------------+-------------------+--------------------+----------------------+-----------+------------------+-----------+\n",
            "|         0|           0|            0|              0|          0|                 0|             105553|           633653|               1124488|                 0|            13|             257669|              591780|                     0|          0|                 0|    1226791|\n",
            "+----------+------------+-------------+---------------+-----------+------------------+-------------------+-----------------+----------------------+------------------+--------------+-------------------+--------------------+----------------------+-----------+------------------+-----------+\n",
            "\n"
          ]
        }
      ],
      "source": [
        "from pyspark.sql.functions import col, count, when\n",
        "\n",
        "application_train.select([count(when(col(c).isNull(), c)).alias(c) for c in application_train.columns]).show()\n",
        "\n",
        "bureau.select([count(when(col(c).isNull(), c)).alias(c) for c in bureau.columns]).show()"
      ]
    },
    {
      "cell_type": "code",
      "execution_count": null,
      "metadata": {
        "id": "U6WKMltaotx5"
      },
      "outputs": [],
      "source": [
        "from pyspark.sql.functions import col, count, when\n",
        "def missing_values(df):\n",
        "    missing_values_count = df.select([count(when(col(c).isNull(), c)).alias(c) for c in df.columns]).collect()[0].asDict()\n",
        "\n",
        "    missing_values_percentage = {c: (missing_values_count[c] / df.count()) * 100 for c in df.columns}\n",
        "\n",
        "    missing_values_df = spark.createDataFrame([(c, missing_values_count[c], missing_values_percentage[c]) for c in df.columns], [\"Column Name\", \"Missing Values\", \"Percentage\"])\n",
        "\n",
        "    return missing_values_df"
      ]
    },
    {
      "cell_type": "code",
      "execution_count": null,
      "metadata": {
        "id": "Xw_qipIOowLM"
      },
      "outputs": [],
      "source": [
        "train_miss=missing_values(application_train).orderBy(col('Percentage').desc())"
      ]
    },
    {
      "cell_type": "markdown",
      "source": [
        "Phần trăm khuyết thiếu của bảng application"
      ],
      "metadata": {
        "id": "u3iY9-LozeCm"
      }
    },
    {
      "cell_type": "code",
      "execution_count": null,
      "metadata": {
        "colab": {
          "base_uri": "https://localhost:8080/"
        },
        "id": "S3P5XDUMqbzx",
        "outputId": "f760f9b8-6cd4-4603-874c-d32c3a7491af"
      },
      "outputs": [
        {
          "output_type": "stream",
          "name": "stdout",
          "text": [
            "+--------------------+--------------+------------------+\n",
            "|         Column Name|Missing Values|        Percentage|\n",
            "+--------------------+--------------+------------------+\n",
            "|     COMMONAREA_MODE|        214865| 69.87229725115525|\n",
            "|      COMMONAREA_AVG|        214865| 69.87229725115525|\n",
            "|     COMMONAREA_MEDI|        214865| 69.87229725115525|\n",
            "|NONLIVINGAPARTMEN...|        213514| 69.43296337366793|\n",
            "|NONLIVINGAPARTMEN...|        213514| 69.43296337366793|\n",
            "|NONLIVINGAPARTMEN...|        213514| 69.43296337366793|\n",
            "|  FONDKAPREMONT_MODE|        210295| 68.38617155158677|\n",
            "|LIVINGAPARTMENTS_AVG|        210199| 68.35495315614726|\n",
            "|LIVINGAPARTMENTS_...|        210199| 68.35495315614726|\n",
            "|LIVINGAPARTMENTS_...|        210199| 68.35495315614726|\n",
            "|       FLOORSMIN_AVG|        208642| 67.84862980511267|\n",
            "|      FLOORSMIN_MODE|        208642| 67.84862980511267|\n",
            "|      FLOORSMIN_MEDI|        208642| 67.84862980511267|\n",
            "|     YEARS_BUILD_AVG|        204488| 66.49778381911543|\n",
            "|    YEARS_BUILD_MODE|        204488| 66.49778381911543|\n",
            "|    YEARS_BUILD_MEDI|        204488| 66.49778381911543|\n",
            "|         OWN_CAR_AGE|        202929|  65.9908100848425|\n",
            "|       LANDAREA_MODE|        182590|59.376737742714894|\n",
            "|        LANDAREA_AVG|        182590|59.376737742714894|\n",
            "|       LANDAREA_MEDI|        182590|59.376737742714894|\n",
            "+--------------------+--------------+------------------+\n",
            "only showing top 20 rows\n",
            "\n"
          ]
        }
      ],
      "source": [
        "train_miss.show()"
      ]
    },
    {
      "cell_type": "markdown",
      "source": [
        "Phần trăm dữ liệu thiếu của bảng bureau"
      ],
      "metadata": {
        "id": "-0uXeCzbz9zg"
      }
    },
    {
      "cell_type": "code",
      "execution_count": null,
      "metadata": {
        "colab": {
          "base_uri": "https://localhost:8080/"
        },
        "id": "b5eko_8djjHW",
        "outputId": "fbe546f9-d588-42f6-c9ba-5d2916f7be36"
      },
      "outputs": [
        {
          "output_type": "stream",
          "name": "stdout",
          "text": [
            "+--------------------+--------------+--------------------+\n",
            "|         Column Name|Missing Values|          Percentage|\n",
            "+--------------------+--------------+--------------------+\n",
            "|         AMT_ANNUITY|       1226791|    71.4734902949614|\n",
            "|AMT_CREDIT_MAX_OV...|       1124488|   65.51326359159837|\n",
            "|   DAYS_ENDDATE_FACT|        633653|  36.916957775100386|\n",
            "|AMT_CREDIT_SUM_LIMIT|        591780|   34.47741472406649|\n",
            "| AMT_CREDIT_SUM_DEBT|        257669|  15.011931755948982|\n",
            "| DAYS_CREDIT_ENDDATE|        105553|   6.149573416420613|\n",
            "|      AMT_CREDIT_SUM|            13|7.573868522303295E-4|\n",
            "|          SK_ID_CURR|             0|                 0.0|\n",
            "|  CNT_CREDIT_PROLONG|             0|                 0.0|\n",
            "|        SK_ID_BUREAU|             0|                 0.0|\n",
            "|AMT_CREDIT_SUM_OV...|             0|                 0.0|\n",
            "|       CREDIT_ACTIVE|             0|                 0.0|\n",
            "|         CREDIT_TYPE|             0|                 0.0|\n",
            "|     CREDIT_CURRENCY|             0|                 0.0|\n",
            "|  DAYS_CREDIT_UPDATE|             0|                 0.0|\n",
            "|         DAYS_CREDIT|             0|                 0.0|\n",
            "|  CREDIT_DAY_OVERDUE|             0|                 0.0|\n",
            "+--------------------+--------------+--------------------+\n",
            "\n"
          ]
        }
      ],
      "source": [
        "bureau_miss=missing_values(bureau).orderBy(col('Percentage').desc())\n",
        "bureau_miss.show()"
      ]
    },
    {
      "cell_type": "markdown",
      "source": [
        "Bỏ hết những cột thiếu hơn 50% dữ liệu của cả 2 bảng\n"
      ],
      "metadata": {
        "id": "Drxid6GO1ASN"
      }
    },
    {
      "cell_type": "code",
      "execution_count": null,
      "metadata": {
        "id": "Zx60ckwP8xhM"
      },
      "outputs": [],
      "source": [
        "from pyspark.ml.stat import Correlation\n",
        "from pyspark.ml.feature import VectorAssembler\n",
        "import pyspark.sql.functions as F\n",
        "import numpy as np\n",
        "\n",
        "numerical_cols = [col for col, dtype in application_train.dtypes if dtype in ['int', 'double']]\n",
        "assembler = VectorAssembler(inputCols=numerical_cols, outputCol=\"features\", handleInvalid=\"skip\") # Set handleInvalid to skip\n",
        "\n",
        "df_vector = assembler.transform(application_train).select(\"features\")\n",
        "\n",
        "correlation_matrix = Correlation.corr(df_vector, \"features\").head()\n",
        "corr_array = correlation_matrix[0].toArray()\n",
        "\n",
        "threshold = 0.5\n",
        "upper_triangle = np.triu(corr_array, k=1)\n",
        "to_drop = [numerical_cols[i] for i in range(len(numerical_cols))\n",
        "           for j in range(i + 1, len(numerical_cols))\n",
        "           if abs(upper_triangle[i, j]) > threshold]\n",
        "application_train = application_train.drop(*to_drop)"
      ]
    },
    {
      "cell_type": "code",
      "execution_count": null,
      "metadata": {
        "id": "-u6UhkbSk44Q"
      },
      "outputs": [],
      "source": [
        "import numpy as np\n",
        "numerical_cols = [col for col, dtype in bureau.dtypes if dtype in ['int', 'double']]\n",
        "assembler = VectorAssembler(inputCols=numerical_cols, outputCol=\"features\", handleInvalid=\"skip\") # Set handleInvalid to skip\n",
        "\n",
        "df_vector = assembler.transform(bureau).select(\"features\")\n",
        "\n",
        "correlation_matrix = Correlation.corr(df_vector, \"features\").head()\n",
        "corr_array = correlation_matrix[0].toArray()\n",
        "\n",
        "threshold = 0.5\n",
        "upper_triangle = np.triu(corr_array, k=1)\n",
        "to_drop = [numerical_cols[i] for i in range(len(numerical_cols))\n",
        "           for j in range(i + 1, len(numerical_cols))\n",
        "           if abs(upper_triangle[i, j]) > threshold]\n",
        "bureau = bureau.drop(*to_drop)\n"
      ]
    },
    {
      "cell_type": "markdown",
      "source": [
        "điền những giá trị mean vào các ô thiếu giữ liệu mang kiểu int hoặc double của cả 2 bảng"
      ],
      "metadata": {
        "id": "USWlULkT1av1"
      }
    },
    {
      "cell_type": "code",
      "execution_count": null,
      "metadata": {
        "colab": {
          "base_uri": "https://localhost:8080/"
        },
        "id": "vMMOePUTs1sF",
        "outputId": "3e8f656f-e2e4-429a-d505-2e64b2fd283f"
      },
      "outputs": [
        {
          "output_type": "stream",
          "name": "stdout",
          "text": [
            "+----------+------+------------------+-----------+------------+---------------+----------------+---------------+---------------+----------------+-------------------+------------------+-----------------+-----------------+---------------+-----------+----------+---------------+----------------+----------+----------+---------------+---------------+---------------------------+--------------------------+-----------------------+--------------------------+---------------------------+----------------------+-----------------------+-----------------+------------+------------+------------+--------------+-------------+------------------------+------------------+------------------+--------------+--------------+------------------+-------------------+------------------------+------------------------+----------------------+---------------+---------------+---------------+---------------+---------------+---------------+---------------+----------------+----------------+----------------+----------------+----------------+----------------+----------------+----------------+----------------+----------------+----------------+----------------+--------------------------+-------------------------+--------------------------+-------------------------+-------------------------+--------------------------+\n",
            "|SK_ID_CURR|TARGET|NAME_CONTRACT_TYPE|CODE_GENDER|FLAG_OWN_CAR|FLAG_OWN_REALTY|AMT_INCOME_TOTAL|AMT_GOODS_PRICE|NAME_TYPE_SUITE|NAME_INCOME_TYPE|NAME_EDUCATION_TYPE|NAME_FAMILY_STATUS|NAME_HOUSING_TYPE|DAYS_REGISTRATION|DAYS_ID_PUBLISH|OWN_CAR_AGE|FLAG_MOBIL|FLAG_WORK_PHONE|FLAG_CONT_MOBILE|FLAG_PHONE|FLAG_EMAIL|OCCUPATION_TYPE|CNT_FAM_MEMBERS|REGION_RATING_CLIENT_W_CITY|WEEKDAY_APPR_PROCESS_START|HOUR_APPR_PROCESS_START|REG_REGION_NOT_LIVE_REGION|LIVE_REGION_NOT_WORK_REGION|REG_CITY_NOT_LIVE_CITY|LIVE_CITY_NOT_WORK_CITY|ORGANIZATION_TYPE|EXT_SOURCE_1|EXT_SOURCE_2|EXT_SOURCE_3|FLOORSMIN_MEDI|LANDAREA_MEDI|NONLIVINGAPARTMENTS_MEDI|NONLIVINGAREA_MEDI|FONDKAPREMONT_MODE|HOUSETYPE_MODE|TOTALAREA_MODE|WALLSMATERIAL_MODE|EMERGENCYSTATE_MODE|OBS_60_CNT_SOCIAL_CIRCLE|DEF_60_CNT_SOCIAL_CIRCLE|DAYS_LAST_PHONE_CHANGE|FLAG_DOCUMENT_2|FLAG_DOCUMENT_4|FLAG_DOCUMENT_5|FLAG_DOCUMENT_6|FLAG_DOCUMENT_7|FLAG_DOCUMENT_8|FLAG_DOCUMENT_9|FLAG_DOCUMENT_10|FLAG_DOCUMENT_11|FLAG_DOCUMENT_12|FLAG_DOCUMENT_13|FLAG_DOCUMENT_14|FLAG_DOCUMENT_15|FLAG_DOCUMENT_16|FLAG_DOCUMENT_17|FLAG_DOCUMENT_18|FLAG_DOCUMENT_19|FLAG_DOCUMENT_20|FLAG_DOCUMENT_21|AMT_REQ_CREDIT_BUREAU_HOUR|AMT_REQ_CREDIT_BUREAU_DAY|AMT_REQ_CREDIT_BUREAU_WEEK|AMT_REQ_CREDIT_BUREAU_MON|AMT_REQ_CREDIT_BUREAU_QRT|AMT_REQ_CREDIT_BUREAU_YEAR|\n",
            "+----------+------+------------------+-----------+------------+---------------+----------------+---------------+---------------+----------------+-------------------+------------------+-----------------+-----------------+---------------+-----------+----------+---------------+----------------+----------+----------+---------------+---------------+---------------------------+--------------------------+-----------------------+--------------------------+---------------------------+----------------------+-----------------------+-----------------+------------+------------+------------+--------------+-------------+------------------------+------------------+------------------+--------------+--------------+------------------+-------------------+------------------------+------------------------+----------------------+---------------+---------------+---------------+---------------+---------------+---------------+---------------+----------------+----------------+----------------+----------------+----------------+----------------+----------------+----------------+----------------+----------------+----------------+----------------+--------------------------+-------------------------+--------------------------+-------------------------+-------------------------+--------------------------+\n",
            "|         0|     0|                 0|          0|           0|              0|               0|              0|           1292|               0|                  0|                 0|                0|                0|              0|          0|         0|              0|               0|         0|         0|          96391|              0|                          0|                         0|                      0|                         0|                          0|                     0|                      0|                0|           0|           0|           0|             0|            0|                       0|                 0|            210295|        154297|             0|            156341|             145755|                       0|                       0|                     0|              0|              0|              0|              0|              0|              0|              0|               0|               0|               0|               0|               0|               0|               0|               0|               0|               0|               0|               0|                         0|                        0|                         0|                        0|                        0|                         0|\n",
            "+----------+------+------------------+-----------+------------+---------------+----------------+---------------+---------------+----------------+-------------------+------------------+-----------------+-----------------+---------------+-----------+----------+---------------+----------------+----------+----------+---------------+---------------+---------------------------+--------------------------+-----------------------+--------------------------+---------------------------+----------------------+-----------------------+-----------------+------------+------------+------------+--------------+-------------+------------------------+------------------+------------------+--------------+--------------+------------------+-------------------+------------------------+------------------------+----------------------+---------------+---------------+---------------+---------------+---------------+---------------+---------------+----------------+----------------+----------------+----------------+----------------+----------------+----------------+----------------+----------------+----------------+----------------+----------------+--------------------------+-------------------------+--------------------------+-------------------------+-------------------------+--------------------------+\n",
            "\n"
          ]
        }
      ],
      "source": [
        "from pyspark.sql.functions import mean, count, when, col, isnull\n",
        "\n",
        "means = application_train.select([mean(c).alias(c) for c in application_train.columns if c != 'TARGET']).collect()[0].asDict()\n",
        "\n",
        "for column, mean_value in means.items():\n",
        "    application_train = application_train.withColumn(column, when(isnull(col(column)), mean_value).otherwise(col(column)))\n",
        "\n",
        "application_train.select([count(when(col(c).isNull(), c)).alias(c) for c in application_train.columns]).show()"
      ]
    },
    {
      "cell_type": "code",
      "execution_count": null,
      "metadata": {
        "colab": {
          "base_uri": "https://localhost:8080/"
        },
        "id": "4VRlb4jVlO1Y",
        "outputId": "baf0b617-bd3f-4793-819b-4f3e789a70f8"
      },
      "outputs": [
        {
          "output_type": "stream",
          "name": "stdout",
          "text": [
            "+----------+------------+-------------+---------------+------------------+----------------------+------------------+--------------+-------------------+--------------------+----------------------+-----------+------------------+-----------+\n",
            "|SK_ID_CURR|SK_ID_BUREAU|CREDIT_ACTIVE|CREDIT_CURRENCY|CREDIT_DAY_OVERDUE|AMT_CREDIT_MAX_OVERDUE|CNT_CREDIT_PROLONG|AMT_CREDIT_SUM|AMT_CREDIT_SUM_DEBT|AMT_CREDIT_SUM_LIMIT|AMT_CREDIT_SUM_OVERDUE|CREDIT_TYPE|DAYS_CREDIT_UPDATE|AMT_ANNUITY|\n",
            "+----------+------------+-------------+---------------+------------------+----------------------+------------------+--------------+-------------------+--------------------+----------------------+-----------+------------------+-----------+\n",
            "|         0|           0|            0|              0|                 0|                     0|                 0|             0|                  0|                   0|                     0|          0|                 0|          0|\n",
            "+----------+------------+-------------+---------------+------------------+----------------------+------------------+--------------+-------------------+--------------------+----------------------+-----------+------------------+-----------+\n",
            "\n"
          ]
        }
      ],
      "source": [
        "means = bureau.select([mean(c).alias(c) for c in bureau.columns if c != 'SK_ID_PREV']).collect()[0].asDict()\n",
        "\n",
        "for column, mean_value in means.items():\n",
        "    bureau = bureau.withColumn(column, when(isnull(col(column)), mean_value).otherwise(col(column)))\n",
        "\n",
        "bureau.select([count(when(col(c).isNull(), c)).alias(c) for c in bureau.columns]).show()\n"
      ]
    },
    {
      "cell_type": "code",
      "execution_count": null,
      "metadata": {
        "id": "Xr_hyvSsCXK2"
      },
      "outputs": [],
      "source": [
        "null_counts = application_train.select([count(when(col(c).isNull(), c)).alias(c) for c in application_train.columns]).collect()[0].asDict()\n",
        "\n",
        "cols_to_drop = [key for key, value in null_counts.items() if value > 90000]\n",
        "\n",
        "application_train = application_train.drop(*cols_to_drop)\n"
      ]
    },
    {
      "cell_type": "code",
      "execution_count": null,
      "metadata": {
        "colab": {
          "base_uri": "https://localhost:8080/"
        },
        "id": "UDBCxtTmEfSz",
        "outputId": "ec4201bb-152d-4633-89b4-0dcbf106a694"
      },
      "outputs": [
        {
          "output_type": "stream",
          "name": "stdout",
          "text": [
            "+----------+------+------------------+-----------+------------+---------------+----------------+---------------+---------------+----------------+-------------------+------------------+-----------------+-----------------+---------------+-----------+----------+---------------+----------------+----------+----------+---------------+---------------------------+--------------------------+-----------------------+--------------------------+---------------------------+----------------------+-----------------------+-----------------+------------+------------+------------+--------------+-------------+------------------------+------------------+--------------+------------------------+------------------------+----------------------+---------------+---------------+---------------+---------------+---------------+---------------+---------------+----------------+----------------+----------------+----------------+----------------+----------------+----------------+----------------+----------------+----------------+----------------+----------------+--------------------------+-------------------------+--------------------------+-------------------------+-------------------------+--------------------------+\n",
            "|SK_ID_CURR|TARGET|NAME_CONTRACT_TYPE|CODE_GENDER|FLAG_OWN_CAR|FLAG_OWN_REALTY|AMT_INCOME_TOTAL|AMT_GOODS_PRICE|NAME_TYPE_SUITE|NAME_INCOME_TYPE|NAME_EDUCATION_TYPE|NAME_FAMILY_STATUS|NAME_HOUSING_TYPE|DAYS_REGISTRATION|DAYS_ID_PUBLISH|OWN_CAR_AGE|FLAG_MOBIL|FLAG_WORK_PHONE|FLAG_CONT_MOBILE|FLAG_PHONE|FLAG_EMAIL|CNT_FAM_MEMBERS|REGION_RATING_CLIENT_W_CITY|WEEKDAY_APPR_PROCESS_START|HOUR_APPR_PROCESS_START|REG_REGION_NOT_LIVE_REGION|LIVE_REGION_NOT_WORK_REGION|REG_CITY_NOT_LIVE_CITY|LIVE_CITY_NOT_WORK_CITY|ORGANIZATION_TYPE|EXT_SOURCE_1|EXT_SOURCE_2|EXT_SOURCE_3|FLOORSMIN_MEDI|LANDAREA_MEDI|NONLIVINGAPARTMENTS_MEDI|NONLIVINGAREA_MEDI|TOTALAREA_MODE|OBS_60_CNT_SOCIAL_CIRCLE|DEF_60_CNT_SOCIAL_CIRCLE|DAYS_LAST_PHONE_CHANGE|FLAG_DOCUMENT_2|FLAG_DOCUMENT_4|FLAG_DOCUMENT_5|FLAG_DOCUMENT_6|FLAG_DOCUMENT_7|FLAG_DOCUMENT_8|FLAG_DOCUMENT_9|FLAG_DOCUMENT_10|FLAG_DOCUMENT_11|FLAG_DOCUMENT_12|FLAG_DOCUMENT_13|FLAG_DOCUMENT_14|FLAG_DOCUMENT_15|FLAG_DOCUMENT_16|FLAG_DOCUMENT_17|FLAG_DOCUMENT_18|FLAG_DOCUMENT_19|FLAG_DOCUMENT_20|FLAG_DOCUMENT_21|AMT_REQ_CREDIT_BUREAU_HOUR|AMT_REQ_CREDIT_BUREAU_DAY|AMT_REQ_CREDIT_BUREAU_WEEK|AMT_REQ_CREDIT_BUREAU_MON|AMT_REQ_CREDIT_BUREAU_QRT|AMT_REQ_CREDIT_BUREAU_YEAR|\n",
            "+----------+------+------------------+-----------+------------+---------------+----------------+---------------+---------------+----------------+-------------------+------------------+-----------------+-----------------+---------------+-----------+----------+---------------+----------------+----------+----------+---------------+---------------------------+--------------------------+-----------------------+--------------------------+---------------------------+----------------------+-----------------------+-----------------+------------+------------+------------+--------------+-------------+------------------------+------------------+--------------+------------------------+------------------------+----------------------+---------------+---------------+---------------+---------------+---------------+---------------+---------------+----------------+----------------+----------------+----------------+----------------+----------------+----------------+----------------+----------------+----------------+----------------+----------------+--------------------------+-------------------------+--------------------------+-------------------------+-------------------------+--------------------------+\n",
            "|         0|     0|                 0|          0|           0|              0|               0|              0|           1292|               0|                  0|                 0|                0|                0|              0|          0|         0|              0|               0|         0|         0|              0|                          0|                         0|                      0|                         0|                          0|                     0|                      0|                0|           0|           0|           0|             0|            0|                       0|                 0|             0|                       0|                       0|                     0|              0|              0|              0|              0|              0|              0|              0|               0|               0|               0|               0|               0|               0|               0|               0|               0|               0|               0|               0|                         0|                        0|                         0|                        0|                        0|                         0|\n",
            "+----------+------+------------------+-----------+------------+---------------+----------------+---------------+---------------+----------------+-------------------+------------------+-----------------+-----------------+---------------+-----------+----------+---------------+----------------+----------+----------+---------------+---------------------------+--------------------------+-----------------------+--------------------------+---------------------------+----------------------+-----------------------+-----------------+------------+------------+------------+--------------+-------------+------------------------+------------------+--------------+------------------------+------------------------+----------------------+---------------+---------------+---------------+---------------+---------------+---------------+---------------+----------------+----------------+----------------+----------------+----------------+----------------+----------------+----------------+----------------+----------------+----------------+----------------+--------------------------+-------------------------+--------------------------+-------------------------+-------------------------+--------------------------+\n",
            "\n"
          ]
        }
      ],
      "source": [
        "application_train.select([count(when(col(c).isNull(), c)).alias(c) for c in application_train.columns]).show()"
      ]
    },
    {
      "cell_type": "code",
      "execution_count": null,
      "metadata": {
        "colab": {
          "base_uri": "https://localhost:8080/"
        },
        "id": "lalkLATml44Y",
        "outputId": "448e40ab-a2e3-40ae-fc17-9ca5805b3e4c"
      },
      "outputs": [
        {
          "output_type": "stream",
          "name": "stdout",
          "text": [
            "+----------+------------+-------------+---------------+------------------+----------------------+------------------+--------------+-------------------+--------------------+----------------------+-----------+------------------+-----------+\n",
            "|SK_ID_CURR|SK_ID_BUREAU|CREDIT_ACTIVE|CREDIT_CURRENCY|CREDIT_DAY_OVERDUE|AMT_CREDIT_MAX_OVERDUE|CNT_CREDIT_PROLONG|AMT_CREDIT_SUM|AMT_CREDIT_SUM_DEBT|AMT_CREDIT_SUM_LIMIT|AMT_CREDIT_SUM_OVERDUE|CREDIT_TYPE|DAYS_CREDIT_UPDATE|AMT_ANNUITY|\n",
            "+----------+------------+-------------+---------------+------------------+----------------------+------------------+--------------+-------------------+--------------------+----------------------+-----------+------------------+-----------+\n",
            "|         0|           0|            0|              0|                 0|                     0|                 0|             0|                  0|                   0|                     0|          0|                 0|          0|\n",
            "+----------+------------+-------------+---------------+------------------+----------------------+------------------+--------------+-------------------+--------------------+----------------------+-----------+------------------+-----------+\n",
            "\n"
          ]
        }
      ],
      "source": [
        "bureau.select([count(when(col(c).isNull(), c)).alias(c) for c in bureau.columns]).show()"
      ]
    },
    {
      "cell_type": "markdown",
      "source": [
        "Nối 2 bảng application và bureau thông qua SK_ID_CURR"
      ],
      "metadata": {
        "id": "I7EMr4Xs2tNM"
      }
    },
    {
      "cell_type": "code",
      "source": [
        "from pyspark.sql import functions as F\n",
        "\n",
        "bureau_agg = bureau.groupBy('SK_ID_CURR').agg(\n",
        "    F.sum('AMT_CREDIT_SUM').alias('total_credit_sum'),\n",
        "    F.mean('AMT_CREDIT_SUM_DEBT').alias('avg_credit_sum_debt'),\n",
        "    F.count('*').alias('num_loans')\n",
        ")\n",
        "data_join = application_train.join(bureau_agg, on='SK_ID_CURR', how='left')"
      ],
      "metadata": {
        "id": "hznsnLI6yj7g"
      },
      "execution_count": null,
      "outputs": []
    },
    {
      "cell_type": "markdown",
      "source": [
        "Loại bỏ giá trị trùng lặp"
      ],
      "metadata": {
        "id": "cVNC7F4g3y_E"
      }
    },
    {
      "cell_type": "code",
      "source": [
        "data_join = data_join.dropDuplicates()"
      ],
      "metadata": {
        "id": "VBHYDmpiL9Ij"
      },
      "execution_count": null,
      "outputs": []
    },
    {
      "cell_type": "markdown",
      "source": [
        "Số dòng và cột sau khi join 2 bảng lại với nhau"
      ],
      "metadata": {
        "id": "DFyt3sGP350P"
      }
    },
    {
      "cell_type": "code",
      "execution_count": null,
      "metadata": {
        "colab": {
          "base_uri": "https://localhost:8080/"
        },
        "id": "ic6h8J8jvNCl",
        "outputId": "2c6893ba-7ef8-448a-adf7-8df42e7d7bea"
      },
      "outputs": [
        {
          "output_type": "stream",
          "name": "stdout",
          "text": [
            "Number of rows: 307511\n",
            "Number of columns: 69\n"
          ]
        }
      ],
      "source": [
        "num_rows = data_join.count()\n",
        "num_cols = len(data_join.columns)\n",
        "\n",
        "print(f\"Number of rows: {num_rows}\")\n",
        "print(f\"Number of columns: {num_cols}\")"
      ]
    },
    {
      "cell_type": "markdown",
      "metadata": {
        "id": "lh65OaAdI-aP"
      },
      "source": [
        "# Trực quan hóa dữ liệu"
      ]
    },
    {
      "cell_type": "code",
      "execution_count": null,
      "metadata": {
        "colab": {
          "base_uri": "https://localhost:8080/"
        },
        "id": "8X871GI-G3t4",
        "outputId": "6d7dc41a-7f7c-4c3b-a690-a20ccdd34cbe"
      },
      "outputs": [
        {
          "output_type": "stream",
          "name": "stdout",
          "text": [
            "+------+------+\n",
            "|TARGET| count|\n",
            "+------+------+\n",
            "|     1| 24825|\n",
            "|     0|282686|\n",
            "+------+------+\n",
            "\n"
          ]
        }
      ],
      "source": [
        "data_join.groupBy('TARGET').count().show()"
      ]
    },
    {
      "cell_type": "markdown",
      "source": [
        "Biểu đồ cột thể hiện cột tagert"
      ],
      "metadata": {
        "id": "tQeOcvyb4VQ2"
      }
    },
    {
      "cell_type": "code",
      "execution_count": null,
      "metadata": {
        "colab": {
          "base_uri": "https://localhost:8080/",
          "height": 564
        },
        "id": "2NKO1sH6HBp9",
        "outputId": "e906eefa-cb87-4b42-9ff7-af29beed91f8"
      },
      "outputs": [
        {
          "output_type": "display_data",
          "data": {
            "text/plain": [
              "<Figure size 800x600 with 1 Axes>"
            ],
            "image/png": "[encoded data removed]"
          },
          "metadata": {}
        }
      ],
      "source": [
        "colors = ['#66B2FF', 'orange']\n",
        "target_counts = data_join.groupBy('TARGET').count().toPandas()\n",
        "plt.figure(figsize=(8, 6))\n",
        "sns.barplot(x='TARGET', y='count', data=target_counts, hue='TARGET', palette=colors, legend=False)\n",
        "plt.title('Distribution of Target Variable')\n",
        "plt.xlabel('Target')\n",
        "plt.ylabel('Count')\n",
        "plt.show()\n"
      ]
    },
    {
      "cell_type": "markdown",
      "source": [
        "Với 0 là những người có khả năng trả nợ\n",
        "\n",
        "Với 1 là những người không có khả năng trả nợ\n",
        "\n",
        "Nhận xét: có sự chênh lệch lớn giữa người có thể trả và không thể trả."
      ],
      "metadata": {
        "id": "cahw2-yK4dbP"
      }
    },
    {
      "cell_type": "markdown",
      "metadata": {
        "id": "24geohf7KBtw"
      },
      "source": [
        "# Logistic Regression Model"
      ]
    },
    {
      "cell_type": "code",
      "execution_count": null,
      "metadata": {
        "colab": {
          "base_uri": "https://localhost:8080/"
        },
        "id": "6b_3T1R4-yaV",
        "outputId": "ecd669ad-39f0-48cc-cc6b-d721e6436d1d"
      },
      "outputs": [
        {
          "output_type": "stream",
          "name": "stdout",
          "text": [
            "Number of rows: 307511\n",
            "Number of columns: 69\n"
          ]
        }
      ],
      "source": [
        "num_rows = data_join.count()\n",
        "num_cols = len(data_join.columns)\n",
        "\n",
        "print(f\"Number of rows: {num_rows}\")\n",
        "print(f\"Number of columns: {num_cols}\")"
      ]
    },
    {
      "cell_type": "code",
      "execution_count": null,
      "metadata": {
        "colab": {
          "base_uri": "https://localhost:8080/"
        },
        "id": "QkiJ2C4UzSFx",
        "outputId": "cea60b5e-901f-470b-8949-912f4d637583"
      },
      "outputs": [
        {
          "output_type": "stream",
          "name": "stdout",
          "text": [
            "root\n",
            " |-- SK_ID_CURR: double (nullable = true)\n",
            " |-- TARGET: integer (nullable = true)\n",
            " |-- NAME_CONTRACT_TYPE: string (nullable = true)\n",
            " |-- CODE_GENDER: string (nullable = true)\n",
            " |-- FLAG_OWN_CAR: string (nullable = true)\n",
            " |-- FLAG_OWN_REALTY: string (nullable = true)\n",
            " |-- AMT_INCOME_TOTAL: double (nullable = true)\n",
            " |-- AMT_GOODS_PRICE: double (nullable = true)\n",
            " |-- NAME_TYPE_SUITE: string (nullable = true)\n",
            " |-- NAME_INCOME_TYPE: string (nullable = true)\n",
            " |-- NAME_EDUCATION_TYPE: string (nullable = true)\n",
            " |-- NAME_FAMILY_STATUS: string (nullable = true)\n",
            " |-- NAME_HOUSING_TYPE: string (nullable = true)\n",
            " |-- DAYS_REGISTRATION: double (nullable = true)\n",
            " |-- DAYS_ID_PUBLISH: double (nullable = true)\n",
            " |-- OWN_CAR_AGE: double (nullable = true)\n",
            " |-- FLAG_MOBIL: double (nullable = true)\n",
            " |-- FLAG_WORK_PHONE: double (nullable = true)\n",
            " |-- FLAG_CONT_MOBILE: double (nullable = true)\n",
            " |-- FLAG_PHONE: double (nullable = true)\n",
            " |-- FLAG_EMAIL: double (nullable = true)\n",
            " |-- CNT_FAM_MEMBERS: double (nullable = true)\n",
            " |-- REGION_RATING_CLIENT_W_CITY: double (nullable = true)\n",
            " |-- WEEKDAY_APPR_PROCESS_START: string (nullable = true)\n",
            " |-- HOUR_APPR_PROCESS_START: double (nullable = true)\n",
            " |-- REG_REGION_NOT_LIVE_REGION: double (nullable = true)\n",
            " |-- LIVE_REGION_NOT_WORK_REGION: double (nullable = true)\n",
            " |-- REG_CITY_NOT_LIVE_CITY: double (nullable = true)\n",
            " |-- LIVE_CITY_NOT_WORK_CITY: double (nullable = true)\n",
            " |-- ORGANIZATION_TYPE: string (nullable = true)\n",
            " |-- EXT_SOURCE_1: double (nullable = true)\n",
            " |-- EXT_SOURCE_2: double (nullable = true)\n",
            " |-- EXT_SOURCE_3: double (nullable = true)\n",
            " |-- FLOORSMIN_MEDI: double (nullable = true)\n",
            " |-- LANDAREA_MEDI: double (nullable = true)\n",
            " |-- NONLIVINGAPARTMENTS_MEDI: double (nullable = true)\n",
            " |-- NONLIVINGAREA_MEDI: double (nullable = true)\n",
            " |-- TOTALAREA_MODE: double (nullable = true)\n",
            " |-- OBS_60_CNT_SOCIAL_CIRCLE: double (nullable = true)\n",
            " |-- DEF_60_CNT_SOCIAL_CIRCLE: double (nullable = true)\n",
            " |-- DAYS_LAST_PHONE_CHANGE: double (nullable = true)\n",
            " |-- FLAG_DOCUMENT_2: double (nullable = true)\n",
            " |-- FLAG_DOCUMENT_4: double (nullable = true)\n",
            " |-- FLAG_DOCUMENT_5: double (nullable = true)\n",
            " |-- FLAG_DOCUMENT_6: double (nullable = true)\n",
            " |-- FLAG_DOCUMENT_7: double (nullable = true)\n",
            " |-- FLAG_DOCUMENT_8: double (nullable = true)\n",
            " |-- FLAG_DOCUMENT_9: double (nullable = true)\n",
            " |-- FLAG_DOCUMENT_10: double (nullable = true)\n",
            " |-- FLAG_DOCUMENT_11: double (nullable = true)\n",
            " |-- FLAG_DOCUMENT_12: double (nullable = true)\n",
            " |-- FLAG_DOCUMENT_13: double (nullable = true)\n",
            " |-- FLAG_DOCUMENT_14: double (nullable = true)\n",
            " |-- FLAG_DOCUMENT_15: double (nullable = true)\n",
            " |-- FLAG_DOCUMENT_16: double (nullable = true)\n",
            " |-- FLAG_DOCUMENT_17: double (nullable = true)\n",
            " |-- FLAG_DOCUMENT_18: double (nullable = true)\n",
            " |-- FLAG_DOCUMENT_19: double (nullable = true)\n",
            " |-- FLAG_DOCUMENT_20: double (nullable = true)\n",
            " |-- FLAG_DOCUMENT_21: double (nullable = true)\n",
            " |-- AMT_REQ_CREDIT_BUREAU_HOUR: double (nullable = true)\n",
            " |-- AMT_REQ_CREDIT_BUREAU_DAY: double (nullable = true)\n",
            " |-- AMT_REQ_CREDIT_BUREAU_WEEK: double (nullable = true)\n",
            " |-- AMT_REQ_CREDIT_BUREAU_MON: double (nullable = true)\n",
            " |-- AMT_REQ_CREDIT_BUREAU_QRT: double (nullable = true)\n",
            " |-- AMT_REQ_CREDIT_BUREAU_YEAR: double (nullable = true)\n",
            " |-- total_credit_sum: double (nullable = true)\n",
            " |-- avg_credit_sum_debt: double (nullable = true)\n",
            " |-- num_loans: long (nullable = true)\n",
            "\n"
          ]
        }
      ],
      "source": [
        "data_join.printSchema()"
      ]
    },
    {
      "cell_type": "markdown",
      "source": [
        "Chọn các cột cần lấy để huấn luyện mô hình (tiêu chí chọn cột dựa trên hệ số tương quan của chúng với cột target), các cột này được chia làm 2 dựa trên dạng dữ liệu.\n",
        "\n",
        "- categorical_col là các cột có kiểu dữ liệu string, object.\n",
        "\n",
        "- numeric_cols là các cột có kiểu dữ liệu int, double."
      ],
      "metadata": {
        "id": "FDKudNPt41xX"
      }
    },
    {
      "cell_type": "code",
      "execution_count": null,
      "metadata": {
        "id": "Eq9RSmy1w2ex"
      },
      "outputs": [],
      "source": [
        "categorical_cols = [\n",
        "    'CODE_GENDER',\n",
        "    'FLAG_OWN_CAR',\n",
        "    'FLAG_OWN_REALTY',\n",
        "    'NAME_CONTRACT_TYPE',\n",
        "    'ORGANIZATION_TYPE',\n",
        "    'REGION_RATING_CLIENT_W_CITY',\n",
        "    'FLAG_WORK_PHONE',\n",
        "    'FLAG_PHONE',\n",
        "    'FLAG_EMAIL',\n",
        "]\n",
        "\n",
        "numeric_cols = [\n",
        "    'CNT_FAM_MEMBERS',\n",
        "    'AMT_INCOME_TOTAL',\n",
        "    'AMT_GOODS_PRICE',\n",
        "    'OWN_CAR_AGE',\n",
        "    'EXT_SOURCE_1',\n",
        "    'EXT_SOURCE_2',\n",
        "    'EXT_SOURCE_3',\n",
        "    'DAYS_REGISTRATION',\n",
        "    'DAYS_ID_PUBLISH',\n",
        "    'total_credit_sum',\n",
        "    'avg_credit_sum_debt',\n",
        "]"
      ]
    },
    {
      "cell_type": "markdown",
      "source": [
        "- Chia dữ liệu ra thành tập train với 80% dữ liệu và tập test là 20% dữ liệu\n",
        "- Pipeline sử dụng Transformer để chuyển dữ liệu dạng chuỗi sang số. sau đó từ dữ liệu đã chuyển và dữ liệu từ numeric_col truyền vào mô hình LogisticRegression để học\n"
      ],
      "metadata": {
        "id": "0a4lGAX252oy"
      }
    },
    {
      "cell_type": "code",
      "execution_count": null,
      "metadata": {
        "colab": {
          "base_uri": "https://localhost:8080/"
        },
        "id": "VqqkKcJr5hu7",
        "outputId": "a697055b-24ae-412f-b7b9-0a5eadc8dcb1"
      },
      "outputs": [
        {
          "output_type": "stream",
          "name": "stdout",
          "text": [
            "Area under ROC curve: 0.5027010382125119\n",
            "Accuracy: 0.919711233598361\n",
            "Recall: 0.919711233598361\n",
            "Precision: 0.8770632854496392\n"
          ]
        }
      ],
      "source": [
        "from pyspark.ml.feature import StringIndexer, OneHotEncoder, VectorAssembler\n",
        "from pyspark.ml.classification import LogisticRegression\n",
        "from pyspark.ml.evaluation import BinaryClassificationEvaluator\n",
        "from pyspark.ml import Pipeline\n",
        "from pyspark.sql.functions import col, when, isnull\n",
        "\n",
        "(trainingData, testData) = data_join.randomSplit([0.8, 0.2], seed=123)\n",
        "\n",
        "stages = []\n",
        "for categoricalCol in categorical_cols:\n",
        "    stringIndexer = StringIndexer(inputCol=categoricalCol, outputCol=categoricalCol + \"Index\", handleInvalid='keep') # Add handleInvalid='keep' to the StringIndexer\n",
        "    encoder = OneHotEncoder(inputCols=[stringIndexer.getOutputCol()], outputCols=[categoricalCol + \"classVec\"])\n",
        "    stages += [stringIndexer, encoder]\n",
        "\n",
        "assemblerInputs = [c + \"classVec\" for c in categorical_cols] + numeric_cols\n",
        "assembler = VectorAssembler(inputCols=assemblerInputs, outputCol=\"features\", handleInvalid=\"keep\") # Set handleInvalid to 'keep'\n",
        "stages += [assembler]\n",
        "\n",
        "for col_name in numeric_cols:\n",
        "    trainingData = trainingData.withColumn(col_name, when(isnull(col(col_name)), 0).otherwise(col(col_name)))\n",
        "    testData = testData.withColumn(col_name, when(isnull(col(col_name)), 0).otherwise(col(col_name)))\n",
        "\n",
        "\n",
        "lr = LogisticRegression(featuresCol=\"features\", labelCol=\"TARGET\", maxIter=10)\n",
        "stages += [lr]\n",
        "\n",
        "pipeline = Pipeline(stages=stages)\n",
        "\n",
        "model = pipeline.fit(trainingData)\n",
        "\n",
        "predictions = model.transform(testData)\n",
        "\n",
        "evaluator = BinaryClassificationEvaluator(labelCol=\"TARGET\", rawPredictionCol=\"prediction\", metricName=\"areaUnderROC\")\n",
        "auc = evaluator.evaluate(predictions)\n",
        "print(\"Area under ROC curve:\", auc)\n",
        "\n",
        "evaluator_acc = MulticlassClassificationEvaluator(labelCol=\"TARGET\", predictionCol=\"prediction\", metricName=\"accuracy\")\n",
        "accuracy = evaluator_acc.evaluate(predictions)\n",
        "print(\"Accuracy:\", accuracy)\n",
        "\n",
        "evaluator_recall = MulticlassClassificationEvaluator(labelCol=\"TARGET\", predictionCol=\"prediction\", metricName=\"weightedRecall\")\n",
        "recall = evaluator_recall.evaluate(predictions)\n",
        "print(\"Recall:\", recall)\n",
        "\n",
        "evaluator_precision = MulticlassClassificationEvaluator(labelCol=\"TARGET\", predictionCol=\"prediction\", metricName=\"weightedPrecision\")\n",
        "precision = evaluator_precision.evaluate(predictions)\n",
        "print(\"Precision:\", precision)"
      ]
    },
    {
      "cell_type": "code",
      "execution_count": null,
      "metadata": {
        "colab": {
          "base_uri": "https://localhost:8080/"
        },
        "id": "wWLW-fFm0hBp",
        "outputId": "e8d0800b-aa9c-4d6d-b1e2-7d5be8399c02"
      },
      "outputs": [
        {
          "output_type": "stream",
          "name": "stdout",
          "text": [
            "F1 score: 0.8825287418125054\n"
          ]
        }
      ],
      "source": [
        "evaluator_f1 = MulticlassClassificationEvaluator(labelCol=\"TARGET\", predictionCol=\"prediction\", metricName=\"f1\")\n",
        "f1 = evaluator_f1.evaluate(predictions)\n",
        "print(\"F1 score:\", f1)"
      ]
    },
    {
      "cell_type": "markdown",
      "source": [
        "Mặc dù các giá trị Accuracy, Precision, Recall khá cao nhưng AUC-ROC chỉ khoảng 50%.\n",
        "\n",
        "=> Mô hình dự đoán tường đương với mức đoán mò (Mô hình khá tệ)."
      ],
      "metadata": {
        "id": "k3bEOvtC7yoM"
      }
    },
    {
      "cell_type": "markdown",
      "source": [
        "Ma trận nhầm lẫn"
      ],
      "metadata": {
        "id": "wH3DbCWp8T1N"
      }
    },
    {
      "cell_type": "code",
      "execution_count": null,
      "metadata": {
        "colab": {
          "base_uri": "https://localhost:8080/",
          "height": 564
        },
        "id": "eGBebptjng9g",
        "outputId": "63ebf7b4-3d30-492c-a265-00a8fd881746"
      },
      "outputs": [
        {
          "output_type": "display_data",
          "data": {
            "text/plain": [
              "<Figure size 800x600 with 2 Axes>"
            ],
            "image/png": "[encoded data removed]"
          },
          "metadata": {}
        }
      ],
      "source": [
        "from sklearn.metrics import confusion_matrix\n",
        "import matplotlib.pyplot as plt\n",
        "import seaborn as sns\n",
        "\n",
        "y_true = predictions.select(\"TARGET\").toPandas()\n",
        "y_pred = predictions.select(\"prediction\").toPandas()\n",
        "\n",
        "cm = confusion_matrix(y_true, y_pred)\n",
        "\n",
        "plt.figure(figsize=(8, 6))\n",
        "sns.heatmap(cm, annot=True, fmt=\"d\", cmap=\"Blues\")\n",
        "plt.title(\"Confusion Matrix\")\n",
        "plt.xlabel(\"Predicted Label\")\n",
        "plt.ylabel(\"True Label\")\n",
        "plt.show()\n"
      ]
    },
    {
      "cell_type": "markdown",
      "source": [
        "# Oversampling"
      ],
      "metadata": {
        "id": "rpio2stuV9OJ"
      }
    },
    {
      "cell_type": "markdown",
      "source": [
        "Phương pháp đề ra để giải quyết là oversampling dữ liệu để số người có khả năng trả nợ cân bằng với số người không trả được nợ.\n",
        "\n",
        "=> Oversampling tập train và giữ nguyên tập test"
      ],
      "metadata": {
        "id": "-ozQMATS8bUa"
      }
    },
    {
      "cell_type": "code",
      "execution_count": null,
      "metadata": {
        "id": "eWm62EOz6sQ-"
      },
      "outputs": [],
      "source": [
        "from pyspark.sql.functions import col\n",
        "from pyspark.sql import functions as F\n",
        "\n",
        "(trainingData, testData) = data_join.randomSplit([0.8, 0.2], seed=123)\n",
        "\n",
        "majority_class = trainingData.filter(col(\"TARGET\") == 0)\n",
        "minority_class = trainingData.filter(col(\"TARGET\") == 1)\n",
        "\n",
        "ratio = majority_class.count() / minority_class.count()\n",
        "\n",
        "oversampled_minority = minority_class.withColumn(\"dummy\", F.explode(F.array_repeat(F.lit(None), int(ratio)))) \\\n",
        "    .drop(\"dummy\")\n",
        "\n",
        "oversampled_trainingData = majority_class.unionAll(oversampled_minority)"
      ]
    },
    {
      "cell_type": "code",
      "source": [
        "oversampled_trainingData = oversampled_trainingData.withColumn(\"total_credit_sum\", when(isnull(col(\"total_credit_sum\")), 71326).otherwise(col(\"total_credit_sum\"))) \\\n",
        "    .withColumn(\"avg_credit_sum_debt\", when(isnull(col(\"avg_credit_sum_debt\")), 71326).otherwise(col(\"avg_credit_sum_debt\"))) \\\n",
        "    .withColumn(\"num_loans\", when(isnull(col(\"num_loans\")), 71326).otherwise(col(\"num_loans\")))\n"
      ],
      "metadata": {
        "id": "_67YycBsVhrO"
      },
      "execution_count": null,
      "outputs": []
    },
    {
      "cell_type": "markdown",
      "source": [
        "Với tập train và test mới huận luyện lại mô hình."
      ],
      "metadata": {
        "id": "EFmVBoce8___"
      }
    },
    {
      "cell_type": "code",
      "execution_count": null,
      "metadata": {
        "colab": {
          "base_uri": "https://localhost:8080/"
        },
        "id": "FosLoQdB60hu",
        "outputId": "c241dfa2-4cd6-47a3-d651-933c5bd1c6f7"
      },
      "outputs": [
        {
          "output_type": "stream",
          "name": "stdout",
          "text": [
            "Area under ROC curve: 0.67913349489191\n",
            "Accuracy: 0.6934783669089313\n",
            "Recall: 0.6934783669089313\n",
            "Precision: 0.8955271636474341\n"
          ]
        }
      ],
      "source": [
        "from pyspark.ml.feature import StringIndexer, OneHotEncoder, VectorAssembler\n",
        "from pyspark.ml.classification import LogisticRegression\n",
        "from pyspark.ml.evaluation import BinaryClassificationEvaluator\n",
        "from pyspark.ml import Pipeline\n",
        "from pyspark.sql.functions import col, when, isnull\n",
        "\n",
        "(trainingData, testData) = data_join.randomSplit([0.8, 0.2], seed=123)\n",
        "\n",
        "stages = []\n",
        "for categoricalCol in categorical_cols:\n",
        "    stringIndexer = StringIndexer(inputCol=categoricalCol, outputCol=categoricalCol + \"Index\", handleInvalid='keep') # Add handleInvalid='keep' to the StringIndexer\n",
        "    encoder = OneHotEncoder(inputCols=[stringIndexer.getOutputCol()], outputCols=[categoricalCol + \"classVec\"])\n",
        "    stages += [stringIndexer, encoder]\n",
        "\n",
        "assemblerInputs = [c + \"classVec\" for c in categorical_cols] + numeric_cols\n",
        "assembler = VectorAssembler(inputCols=assemblerInputs, outputCol=\"features\", handleInvalid=\"keep\") # Set handleInvalid to 'keep'\n",
        "stages += [assembler]\n",
        "\n",
        "for col_name in numeric_cols:\n",
        "    trainingData = trainingData.withColumn(col_name, when(isnull(col(col_name)), 0).otherwise(col(col_name)))\n",
        "    testData = testData.withColumn(col_name, when(isnull(col(col_name)), 0).otherwise(col(col_name)))\n",
        "\n",
        "\n",
        "lr = LogisticRegression(featuresCol=\"features\", labelCol=\"TARGET\", maxIter=10)\n",
        "stages += [lr]\n",
        "\n",
        "pipeline = Pipeline(stages=stages)\n",
        "\n",
        "model = pipeline.fit(oversampled_trainingData)\n",
        "\n",
        "predictions = model.transform(testData)\n",
        "\n",
        "evaluator = BinaryClassificationEvaluator(labelCol=\"TARGET\", rawPredictionCol=\"prediction\", metricName=\"areaUnderROC\")\n",
        "auc = evaluator.evaluate(predictions)\n",
        "print(\"Area under ROC curve:\", auc)\n",
        "\n",
        "evaluator_acc = MulticlassClassificationEvaluator(labelCol=\"TARGET\", predictionCol=\"prediction\", metricName=\"accuracy\")\n",
        "accuracy = evaluator_acc.evaluate(predictions)\n",
        "print(\"Accuracy:\", accuracy)\n",
        "\n",
        "evaluator_recall = MulticlassClassificationEvaluator(labelCol=\"TARGET\", predictionCol=\"prediction\", metricName=\"weightedRecall\")\n",
        "recall = evaluator_recall.evaluate(predictions)\n",
        "print(\"Recall:\", recall)\n",
        "\n",
        "evaluator_precision = MulticlassClassificationEvaluator(labelCol=\"TARGET\", predictionCol=\"prediction\", metricName=\"weightedPrecision\")\n",
        "precision = evaluator_precision.evaluate(predictions)\n",
        "print(\"Precision:\", precision)"
      ]
    },
    {
      "cell_type": "markdown",
      "source": [
        "Kết quả trả về khá tốt với AUC-ROC cải thiện đáng kể (gần 70%)"
      ],
      "metadata": {
        "id": "06cWOnFf9Giu"
      }
    },
    {
      "cell_type": "code",
      "execution_count": null,
      "metadata": {
        "colab": {
          "base_uri": "https://localhost:8080/",
          "height": 564
        },
        "id": "UTfQ50sb68qp",
        "outputId": "8367dcd2-0d5f-42f4-9873-e998c5414e63"
      },
      "outputs": [
        {
          "output_type": "display_data",
          "data": {
            "text/plain": [
              "<Figure size 800x600 with 2 Axes>"
            ],
            "image/png": "[encoded data removed]"
          },
          "metadata": {}
        }
      ],
      "source": [
        "from sklearn.metrics import confusion_matrix\n",
        "import matplotlib.pyplot as plt\n",
        "import seaborn as sns\n",
        "\n",
        "y_true = predictions.select(\"TARGET\").toPandas()\n",
        "y_pred = predictions.select(\"prediction\").toPandas()\n",
        "\n",
        "cm = confusion_matrix(y_true, y_pred)\n",
        "\n",
        "plt.figure(figsize=(8, 6))\n",
        "sns.heatmap(cm, annot=True, fmt=\"d\", cmap=\"Blues\")\n",
        "plt.title(\"Confusion Matrix\")\n",
        "plt.xlabel(\"Predicted Label\")\n",
        "plt.ylabel(\"True Label\")\n",
        "plt.show()\n"
      ]
    }
  ],
  "metadata": {
    "colab": {
      "provenance": [],
      "toc_visible": true
    },
    "kernelspec": {
      "display_name": "Python 3",
      "name": "python3"
    },
    "language_info": {
      "name": "python"
    }
  },
  "nbformat": 4,
  "nbformat_minor": 0
}